{
 "cells": [
  {
   "cell_type": "code",
   "execution_count": null,
   "id": "0d893f9f",
   "metadata": {},
   "outputs": [],
   "source": [
    "def reverse(x):\n",
    "    #Getting string input then deleting the last 2 characters from the input then reversing the string(using list comprehension) and printing the result\n",
    "    print(x[:-2][::-1])\n",
    "def operations(x,y):\n",
    "    #Taking 2 numerical inputs and performing addition, subtraction, multiplication, and division on them, separating\n",
    "    #the outputs slightly further using sep within print statement\n",
    "    print(x+y,x-y,x*y,x/y, sep=\"  \")\n",
    "def replace(y):\n",
    "    #Getting string input then replacing any occurences of 'Python' with 'Pythons' using the replace function\n",
    "    print(y.replace('Python','Pythons'))\n",
    "def grade(score):\n",
    "    #Using if logic to create the ranges of class score to determine the letter grade, using else if statements as well\n",
    "    if score >= 90:\n",
    "        grade = 'A'\n",
    "    elif score < 90 and score >= 80:\n",
    "        grade = 'B'\n",
    "    elif score < 80 and score >= 70:\n",
    "        grade = 'C'\n",
    "    elif score < 70 and score >= 60:\n",
    "        grade = 'D'\n",
    "    else:\n",
    "        grade = 'F'\n",
    "    print(grade)"
   ]
  },
  {
   "cell_type": "code",
   "execution_count": null,
   "id": "58c317a2",
   "metadata": {},
   "outputs": [],
   "source": [
    "#Requesting input for each function using the input function, then using the entered data as the parameters for each of the 4 functions\n",
    "reverse(input())\n",
    "operations(int(input()),int(input()))\n",
    "replace(input())\n",
    "grade(int(input()))"
   ]
  }
 ],
 "metadata": {
  "kernelspec": {
   "display_name": "Python 3",
   "language": "python",
   "name": "python3"
  },
  "language_info": {
   "codemirror_mode": {
    "name": "ipython",
    "version": 3
   },
   "file_extension": ".py",
   "mimetype": "text/x-python",
   "name": "python",
   "nbconvert_exporter": "python",
   "pygments_lexer": "ipython3",
   "version": "3.10.6 (tags/v3.10.6:9c7b4bd, Aug  1 2022, 21:53:49) [MSC v.1932 64 bit (AMD64)]"
  },
  "vscode": {
   "interpreter": {
    "hash": "bea6de001be3defd1bdd481446166b5b714fd8f95c385be752725277819a3aa9"
   }
  }
 },
 "nbformat": 4,
 "nbformat_minor": 5
}

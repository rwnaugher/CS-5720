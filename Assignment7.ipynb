{
  "nbformat": 4,
  "nbformat_minor": 0,
  "metadata": {
    "colab": {
      "provenance": []
    },
    "kernelspec": {
      "name": "python3",
      "display_name": "Python 3"
    },
    "language_info": {
      "name": "python"
    },
    "accelerator": "GPU",
    "gpuClass": "standard"
  },
  "cells": [
    {
      "cell_type": "code",
      "execution_count": 1,
      "metadata": {
        "id": "xe6blnmjpWhJ"
      },
      "outputs": [],
      "source": [
        "#Importing all of the packages needed for this ICP\n",
        "import numpy\n",
        "import matplotlib.pyplot as plt\n",
        "from keras.datasets import cifar10\n",
        "from keras.models import Sequential\n",
        "from keras.layers import Dense\n",
        "from keras.layers import Dropout\n",
        "from keras.layers import Flatten\n",
        "from keras.constraints import maxnorm\n",
        "from keras.optimizers import SGD\n",
        "from keras.layers.convolutional import Conv2D\n",
        "from keras.layers.convolutional import MaxPooling2D\n",
        "from keras.utils import np_utils"
      ]
    },
    {
      "cell_type": "markdown",
      "source": [
        "Importing the training and testing data of CIFAR10, converting it to the float data type, normalizing the data, finding the number of classes, and converting the response variable to categorical."
      ],
      "metadata": {
        "id": "h5c_mlVt0HFY"
      }
    },
    {
      "cell_type": "code",
      "source": [
        "seed = 7\n",
        "numpy.random.seed(seed)\n",
        "#Loading CIFAR10 dataset into train/test\n",
        "(X_train, y_train), (X_test, y_test) = cifar10.load_data()\n",
        "X_train = X_train.astype('float32')\n",
        "X_test = X_test.astype('float32')\n",
        "#Normalizing\n",
        "X_train = X_train / 255.0\n",
        "X_test = X_test / 255.0\n",
        "#Converting response variable to categorical\n",
        "y_train = np_utils.to_categorical(y_train)\n",
        "y_test = np_utils.to_categorical(y_test)\n",
        "num_classes = y_test.shape[1]"
      ],
      "metadata": {
        "id": "YFj6-F2Npb9y"
      },
      "execution_count": 36,
      "outputs": []
    },
    {
      "cell_type": "markdown",
      "source": [
        "Fixing the error of the initial CNN model"
      ],
      "metadata": {
        "id": "_OjB-Obr0XQf"
      }
    },
    {
      "cell_type": "code",
      "source": [
        "model = Sequential()\n",
        "#Error with input_shape - had (3,32,32) instead of (32,32,3)\n",
        "model.add(Conv2D(32, (3, 3), input_shape=(32, 32, 3), padding='same', activation='relu', kernel_constraint=maxnorm(3)))\n",
        "model.add(Dropout(0.2))\n",
        "model.add(Conv2D(32, (3, 3), activation='relu', padding='same', kernel_constraint=maxnorm(3)))\n",
        "model.add(MaxPooling2D(pool_size=(2, 2)))\n",
        "model.add(Flatten())\n",
        "model.add(Dense(512, activation='relu', kernel_constraint=maxnorm(3)))\n",
        "model.add(Dropout(0.5))\n",
        "model.add(Dense(num_classes, activation='softmax'))"
      ],
      "metadata": {
        "id": "YH3caIGfpf4i"
      },
      "execution_count": 25,
      "outputs": []
    },
    {
      "cell_type": "markdown",
      "source": [
        "Training and evaluating the initial CNN model"
      ],
      "metadata": {
        "id": "JM_bwviB0fsR"
      }
    },
    {
      "cell_type": "code",
      "source": [
        "epochs = 25\n",
        "lrate = 0.01\n",
        "decay = lrate/epochs\n",
        "sgd = SGD(lr=lrate, momentum=0.9, decay=decay, nesterov=False)\n",
        "model.compile(loss='categorical_crossentropy', optimizer=sgd, metrics=['accuracy'])\n",
        "print(model.summary())\n",
        "# Fit the model\n",
        "history = model.fit(X_train, y_train, validation_data=(X_test, y_test), epochs=epochs, batch_size=32)\n",
        "# Final evaluation of the model\n",
        "scores = model.evaluate(X_test, y_test, verbose=0)\n",
        "print(\"Accuracy: %.2f%%\" % (scores[1]*100))"
      ],
      "metadata": {
        "colab": {
          "base_uri": "https://localhost:8080/"
        },
        "id": "7Q-39LO-pitl",
        "outputId": "75e8a0c5-14e9-4fa7-aac4-f8dcb6a93226"
      },
      "execution_count": 26,
      "outputs": [
        {
          "output_type": "stream",
          "name": "stdout",
          "text": [
            "Model: \"sequential_3\"\n",
            "_________________________________________________________________\n",
            " Layer (type)                Output Shape              Param #   \n",
            "=================================================================\n",
            " conv2d_10 (Conv2D)          (None, 32, 32, 32)        896       \n",
            "                                                                 \n",
            " dropout_10 (Dropout)        (None, 32, 32, 32)        0         \n",
            "                                                                 \n",
            " conv2d_11 (Conv2D)          (None, 32, 32, 32)        9248      \n",
            "                                                                 \n",
            " max_pooling2d_5 (MaxPooling  (None, 16, 16, 32)       0         \n",
            " 2D)                                                             \n",
            "                                                                 \n",
            " flatten_3 (Flatten)         (None, 8192)              0         \n",
            "                                                                 \n",
            " dense_7 (Dense)             (None, 512)               4194816   \n",
            "                                                                 \n",
            " dropout_11 (Dropout)        (None, 512)               0         \n",
            "                                                                 \n",
            " dense_8 (Dense)             (None, 10)                5130      \n",
            "                                                                 \n",
            "=================================================================\n",
            "Total params: 4,210,090\n",
            "Trainable params: 4,210,090\n",
            "Non-trainable params: 0\n",
            "_________________________________________________________________\n",
            "None\n",
            "Epoch 1/25\n",
            "1563/1563 [==============================] - 11s 7ms/step - loss: 1.6953 - accuracy: 0.3880 - val_loss: 1.3965 - val_accuracy: 0.5118\n",
            "Epoch 2/25\n",
            "1563/1563 [==============================] - 9s 6ms/step - loss: 1.3294 - accuracy: 0.5224 - val_loss: 1.1864 - val_accuracy: 0.5727\n",
            "Epoch 3/25\n",
            "1563/1563 [==============================] - 10s 6ms/step - loss: 1.1658 - accuracy: 0.5844 - val_loss: 1.1070 - val_accuracy: 0.6047\n",
            "Epoch 4/25\n",
            "1563/1563 [==============================] - 10s 6ms/step - loss: 1.0461 - accuracy: 0.6303 - val_loss: 1.0195 - val_accuracy: 0.6410\n",
            "Epoch 5/25\n",
            "1563/1563 [==============================] - 10s 7ms/step - loss: 0.9501 - accuracy: 0.6626 - val_loss: 1.0000 - val_accuracy: 0.6506\n",
            "Epoch 6/25\n",
            "1563/1563 [==============================] - 10s 6ms/step - loss: 0.8676 - accuracy: 0.6921 - val_loss: 0.9582 - val_accuracy: 0.6630\n",
            "Epoch 7/25\n",
            "1563/1563 [==============================] - 10s 6ms/step - loss: 0.7952 - accuracy: 0.7184 - val_loss: 0.9353 - val_accuracy: 0.6720\n",
            "Epoch 8/25\n",
            "1563/1563 [==============================] - 10s 7ms/step - loss: 0.7292 - accuracy: 0.7419 - val_loss: 0.9237 - val_accuracy: 0.6796\n",
            "Epoch 9/25\n",
            "1563/1563 [==============================] - 10s 7ms/step - loss: 0.6703 - accuracy: 0.7631 - val_loss: 0.9283 - val_accuracy: 0.6789\n",
            "Epoch 10/25\n",
            "1563/1563 [==============================] - 10s 7ms/step - loss: 0.6198 - accuracy: 0.7815 - val_loss: 0.9183 - val_accuracy: 0.6889\n",
            "Epoch 11/25\n",
            "1563/1563 [==============================] - 10s 6ms/step - loss: 0.5666 - accuracy: 0.7987 - val_loss: 0.9358 - val_accuracy: 0.6820\n",
            "Epoch 12/25\n",
            "1563/1563 [==============================] - 10s 6ms/step - loss: 0.5269 - accuracy: 0.8144 - val_loss: 0.9250 - val_accuracy: 0.6920\n",
            "Epoch 13/25\n",
            "1563/1563 [==============================] - 10s 6ms/step - loss: 0.4868 - accuracy: 0.8279 - val_loss: 0.9339 - val_accuracy: 0.6908\n",
            "Epoch 14/25\n",
            "1563/1563 [==============================] - 10s 7ms/step - loss: 0.4447 - accuracy: 0.8434 - val_loss: 0.9583 - val_accuracy: 0.6944\n",
            "Epoch 15/25\n",
            "1563/1563 [==============================] - 10s 6ms/step - loss: 0.4119 - accuracy: 0.8563 - val_loss: 0.9523 - val_accuracy: 0.6970\n",
            "Epoch 16/25\n",
            "1563/1563 [==============================] - 10s 6ms/step - loss: 0.3872 - accuracy: 0.8638 - val_loss: 0.9642 - val_accuracy: 0.6963\n",
            "Epoch 17/25\n",
            "1563/1563 [==============================] - 9s 6ms/step - loss: 0.3575 - accuracy: 0.8742 - val_loss: 0.9953 - val_accuracy: 0.6932\n",
            "Epoch 18/25\n",
            "1563/1563 [==============================] - 10s 7ms/step - loss: 0.3379 - accuracy: 0.8826 - val_loss: 0.9988 - val_accuracy: 0.6951\n",
            "Epoch 19/25\n",
            "1563/1563 [==============================] - 10s 6ms/step - loss: 0.3192 - accuracy: 0.8876 - val_loss: 0.9952 - val_accuracy: 0.6949\n",
            "Epoch 20/25\n",
            "1563/1563 [==============================] - 10s 6ms/step - loss: 0.2932 - accuracy: 0.8963 - val_loss: 1.0225 - val_accuracy: 0.7025\n",
            "Epoch 21/25\n",
            "1563/1563 [==============================] - 10s 6ms/step - loss: 0.2810 - accuracy: 0.9016 - val_loss: 1.0290 - val_accuracy: 0.6954\n",
            "Epoch 22/25\n",
            "1563/1563 [==============================] - 9s 6ms/step - loss: 0.2676 - accuracy: 0.9064 - val_loss: 1.0395 - val_accuracy: 0.6953\n",
            "Epoch 23/25\n",
            "1563/1563 [==============================] - 10s 7ms/step - loss: 0.2466 - accuracy: 0.9144 - val_loss: 1.0551 - val_accuracy: 0.6987\n",
            "Epoch 24/25\n",
            "1563/1563 [==============================] - 10s 6ms/step - loss: 0.2378 - accuracy: 0.9173 - val_loss: 1.0887 - val_accuracy: 0.6924\n",
            "Epoch 25/25\n",
            "1563/1563 [==============================] - 10s 6ms/step - loss: 0.2275 - accuracy: 0.9211 - val_loss: 1.0819 - val_accuracy: 0.6987\n",
            "Accuracy: 69.87%\n"
          ]
        }
      ]
    },
    {
      "cell_type": "markdown",
      "source": [
        "Overall accuracy of the initial CNN model is approximately 70%"
      ],
      "metadata": {
        "id": "-DUeoxeA0lCp"
      }
    },
    {
      "cell_type": "markdown",
      "source": [
        "Creating the new CNN model with the necessary changes listed in the ICP directions"
      ],
      "metadata": {
        "id": "INcPASw20te2"
      }
    },
    {
      "cell_type": "code",
      "source": [
        "model2 = Sequential()\n",
        "model2.add(Conv2D(32, (3, 3), input_shape=(32, 32, 3), padding='same', activation='relu', kernel_constraint=maxnorm(3)))\n",
        "model2.add(Dropout(0.2))\n",
        "model2.add(Conv2D(32, (3, 3), activation='relu', padding='same', kernel_constraint=maxnorm(3)))\n",
        "model2.add(MaxPooling2D(pool_size=(2, 2)))\n",
        "model2.add(Conv2D(64, (3, 3), activation='relu', padding='same', kernel_constraint=maxnorm(3)))\n",
        "model2.add(Dropout(0.2))\n",
        "model2.add(Conv2D(64, (3, 3), activation='relu', padding='same', kernel_constraint=maxnorm(3)))\n",
        "model2.add(MaxPooling2D(pool_size=(2, 2)))\n",
        "model2.add(Conv2D(128, (3, 3), activation='relu', padding='same', kernel_constraint=maxnorm(3)))\n",
        "model2.add(Dropout(0.2))\n",
        "model2.add(Conv2D(128, (3, 3), activation='relu', padding='same', kernel_constraint=maxnorm(3)))\n",
        "model2.add(MaxPooling2D(pool_size=(2, 2)))\n",
        "model2.add(Flatten())\n",
        "model2.add(Dropout(0.2))\n",
        "model2.add(Dense(1024, activation='relu', kernel_constraint=maxnorm(3)))\n",
        "model2.add(Dropout(0.2))\n",
        "model2.add(Dense(512, activation='relu', kernel_constraint=maxnorm(3)))\n",
        "model2.add(Dropout(0.2))\n",
        "model2.add(Dense(num_classes, activation='softmax'))"
      ],
      "metadata": {
        "id": "wHVNTQNyrXJL"
      },
      "execution_count": 7,
      "outputs": []
    },
    {
      "cell_type": "code",
      "source": [
        "epochs = 25\n",
        "lrate = 0.01\n",
        "decay = lrate/epochs\n",
        "sgd = SGD(lr=lrate, momentum=0.9, decay=decay, nesterov=False)\n",
        "model2.compile(loss='categorical_crossentropy', optimizer=sgd, metrics=['accuracy'])\n",
        "print(model2.summary())\n",
        "# Fit the model\n",
        "history2 = model2.fit(X_train, y_train, validation_data=(X_test, y_test), epochs=epochs, batch_size=32)\n",
        "# Final evaluation of the model\n",
        "scores = model2.evaluate(X_test, y_test, verbose=0)\n",
        "print(\"Accuracy: %.2f%%\" % (scores[1]*100))"
      ],
      "metadata": {
        "colab": {
          "base_uri": "https://localhost:8080/"
        },
        "id": "rkbbdYzvrc_9",
        "outputId": "36e0bef9-59b4-4593-9556-350cc69c57a7"
      },
      "execution_count": 24,
      "outputs": [
        {
          "output_type": "stream",
          "name": "stdout",
          "text": [
            "Model: \"sequential_2\"\n",
            "_________________________________________________________________\n",
            " Layer (type)                Output Shape              Param #   \n",
            "=================================================================\n",
            " conv2d_4 (Conv2D)           (None, 32, 32, 32)        896       \n",
            "                                                                 \n",
            " dropout_4 (Dropout)         (None, 32, 32, 32)        0         \n",
            "                                                                 \n",
            " conv2d_5 (Conv2D)           (None, 32, 32, 32)        9248      \n",
            "                                                                 \n",
            " max_pooling2d_2 (MaxPooling  (None, 16, 16, 32)       0         \n",
            " 2D)                                                             \n",
            "                                                                 \n",
            " conv2d_6 (Conv2D)           (None, 16, 16, 64)        18496     \n",
            "                                                                 \n",
            " dropout_5 (Dropout)         (None, 16, 16, 64)        0         \n",
            "                                                                 \n",
            " conv2d_7 (Conv2D)           (None, 16, 16, 64)        36928     \n",
            "                                                                 \n",
            " max_pooling2d_3 (MaxPooling  (None, 8, 8, 64)         0         \n",
            " 2D)                                                             \n",
            "                                                                 \n",
            " conv2d_8 (Conv2D)           (None, 8, 8, 128)         73856     \n",
            "                                                                 \n",
            " dropout_6 (Dropout)         (None, 8, 8, 128)         0         \n",
            "                                                                 \n",
            " conv2d_9 (Conv2D)           (None, 8, 8, 128)         147584    \n",
            "                                                                 \n",
            " max_pooling2d_4 (MaxPooling  (None, 4, 4, 128)        0         \n",
            " 2D)                                                             \n",
            "                                                                 \n",
            " flatten_2 (Flatten)         (None, 2048)              0         \n",
            "                                                                 \n",
            " dropout_7 (Dropout)         (None, 2048)              0         \n",
            "                                                                 \n",
            " dense_4 (Dense)             (None, 1024)              2098176   \n",
            "                                                                 \n",
            " dropout_8 (Dropout)         (None, 1024)              0         \n",
            "                                                                 \n",
            " dense_5 (Dense)             (None, 512)               524800    \n",
            "                                                                 \n",
            " dropout_9 (Dropout)         (None, 512)               0         \n",
            "                                                                 \n",
            " dense_6 (Dense)             (None, 10)                5130      \n",
            "                                                                 \n",
            "=================================================================\n",
            "Total params: 2,915,114\n",
            "Trainable params: 2,915,114\n",
            "Non-trainable params: 0\n",
            "_________________________________________________________________\n"
          ]
        },
        {
          "output_type": "stream",
          "name": "stderr",
          "text": [
            "/usr/local/lib/python3.9/dist-packages/keras/optimizers/optimizer_v2/gradient_descent.py:114: UserWarning: The `lr` argument is deprecated, use `learning_rate` instead.\n",
            "  super().__init__(name, **kwargs)\n"
          ]
        },
        {
          "output_type": "stream",
          "name": "stdout",
          "text": [
            "None\n",
            "Epoch 1/25\n",
            "1563/1563 [==============================] - 15s 9ms/step - loss: 0.7589 - accuracy: 0.7319 - val_loss: 0.6996 - val_accuracy: 0.7594\n",
            "Epoch 2/25\n",
            "1563/1563 [==============================] - 14s 9ms/step - loss: 0.5800 - accuracy: 0.7963 - val_loss: 0.6367 - val_accuracy: 0.7769\n",
            "Epoch 3/25\n",
            "1563/1563 [==============================] - 14s 9ms/step - loss: 0.4784 - accuracy: 0.8312 - val_loss: 0.6002 - val_accuracy: 0.7979\n",
            "Epoch 4/25\n",
            "1563/1563 [==============================] - 13s 9ms/step - loss: 0.4020 - accuracy: 0.8558 - val_loss: 0.6204 - val_accuracy: 0.7979\n",
            "Epoch 5/25\n",
            "1563/1563 [==============================] - 13s 8ms/step - loss: 0.3572 - accuracy: 0.8727 - val_loss: 0.6065 - val_accuracy: 0.8003\n",
            "Epoch 6/25\n",
            "1563/1563 [==============================] - 13s 8ms/step - loss: 0.3160 - accuracy: 0.8875 - val_loss: 0.6081 - val_accuracy: 0.8086\n",
            "Epoch 7/25\n",
            "1563/1563 [==============================] - 14s 9ms/step - loss: 0.2778 - accuracy: 0.9013 - val_loss: 0.6234 - val_accuracy: 0.8078\n",
            "Epoch 8/25\n",
            "1563/1563 [==============================] - 13s 9ms/step - loss: 0.2528 - accuracy: 0.9081 - val_loss: 0.6162 - val_accuracy: 0.8114\n",
            "Epoch 9/25\n",
            "1563/1563 [==============================] - 13s 8ms/step - loss: 0.2254 - accuracy: 0.9193 - val_loss: 0.6308 - val_accuracy: 0.8059\n",
            "Epoch 10/25\n",
            "1563/1563 [==============================] - 13s 8ms/step - loss: 0.2090 - accuracy: 0.9264 - val_loss: 0.6411 - val_accuracy: 0.8126\n",
            "Epoch 11/25\n",
            "1563/1563 [==============================] - 13s 8ms/step - loss: 0.1929 - accuracy: 0.9322 - val_loss: 0.6381 - val_accuracy: 0.8191\n",
            "Epoch 12/25\n",
            "1563/1563 [==============================] - 13s 9ms/step - loss: 0.1792 - accuracy: 0.9361 - val_loss: 0.6344 - val_accuracy: 0.8186\n",
            "Epoch 13/25\n",
            "1563/1563 [==============================] - 14s 9ms/step - loss: 0.1681 - accuracy: 0.9395 - val_loss: 0.6451 - val_accuracy: 0.8184\n",
            "Epoch 14/25\n",
            "1563/1563 [==============================] - 14s 9ms/step - loss: 0.1582 - accuracy: 0.9439 - val_loss: 0.6469 - val_accuracy: 0.8204\n",
            "Epoch 15/25\n",
            "1563/1563 [==============================] - 14s 9ms/step - loss: 0.1495 - accuracy: 0.9467 - val_loss: 0.6600 - val_accuracy: 0.8209\n",
            "Epoch 16/25\n",
            "1563/1563 [==============================] - 14s 9ms/step - loss: 0.1429 - accuracy: 0.9486 - val_loss: 0.6822 - val_accuracy: 0.8213\n",
            "Epoch 17/25\n",
            "1563/1563 [==============================] - 14s 9ms/step - loss: 0.1351 - accuracy: 0.9528 - val_loss: 0.6693 - val_accuracy: 0.8193\n",
            "Epoch 18/25\n",
            "1563/1563 [==============================] - 13s 8ms/step - loss: 0.1275 - accuracy: 0.9537 - val_loss: 0.6837 - val_accuracy: 0.8203\n",
            "Epoch 19/25\n",
            "1563/1563 [==============================] - 13s 9ms/step - loss: 0.1227 - accuracy: 0.9572 - val_loss: 0.6928 - val_accuracy: 0.8210\n",
            "Epoch 20/25\n",
            "1563/1563 [==============================] - 14s 9ms/step - loss: 0.1161 - accuracy: 0.9587 - val_loss: 0.6942 - val_accuracy: 0.8197\n",
            "Epoch 21/25\n",
            "1563/1563 [==============================] - 13s 8ms/step - loss: 0.1121 - accuracy: 0.9607 - val_loss: 0.7178 - val_accuracy: 0.8215\n",
            "Epoch 22/25\n",
            "1563/1563 [==============================] - 13s 9ms/step - loss: 0.1075 - accuracy: 0.9621 - val_loss: 0.7084 - val_accuracy: 0.8178\n",
            "Epoch 23/25\n",
            "1563/1563 [==============================] - 14s 9ms/step - loss: 0.1052 - accuracy: 0.9630 - val_loss: 0.6956 - val_accuracy: 0.8234\n",
            "Epoch 24/25\n",
            "1563/1563 [==============================] - 14s 9ms/step - loss: 0.1016 - accuracy: 0.9645 - val_loss: 0.7133 - val_accuracy: 0.8224\n",
            "Epoch 25/25\n",
            "1563/1563 [==============================] - 13s 9ms/step - loss: 0.0987 - accuracy: 0.9636 - val_loss: 0.7226 - val_accuracy: 0.8237\n",
            "Accuracy: 82.37%\n"
          ]
        }
      ]
    },
    {
      "cell_type": "markdown",
      "source": [
        "The accuracy of the new CNN model is approximately 82%.\n",
        "\n",
        "This is a good improvement from the initial model, around a 12% increase in the accuracy of the image classification task."
      ],
      "metadata": {
        "id": "6ZgYxM9n03DM"
      }
    },
    {
      "cell_type": "markdown",
      "source": [
        "Predicting what the first 4 images of the test dataset are with the new CNN model.\n",
        "\n",
        "Here is the label name key:\n",
        "\n",
        "airplane : 0\n",
        "\n",
        "automobile : 1\n",
        "\n",
        "bird : 2\n",
        "\n",
        "cat : 3\n",
        "\n",
        "deer : 4\n",
        "\n",
        "dog : 5\n",
        "\n",
        "frog : 6\n",
        "\n",
        "horse : 7\n",
        "\n",
        "ship : 8\n",
        "\n",
        "truck : 9"
      ],
      "metadata": {
        "id": "nzIcjXXY8mkq"
      }
    },
    {
      "cell_type": "code",
      "source": [
        "for i in range(0,4):\n",
        "  plt.imshow(X_test[i])\n",
        "  plt.show()\n",
        "  pred = model.predict(X_test[i].reshape(1,32,32,3))\n",
        "  print('Predicted Class: ',pred.argmax())\n",
        "  print('Actual Class: ',y_test[i].argmax())"
      ],
      "metadata": {
        "colab": {
          "base_uri": "https://localhost:8080/",
          "height": 1000
        },
        "id": "NhWVxa_r1Os-",
        "outputId": "bc8d3102-fb5a-4c5a-c1f3-bea73c0583e4"
      },
      "execution_count": 52,
      "outputs": [
        {
          "output_type": "display_data",
          "data": {
            "text/plain": [
              "<Figure size 432x288 with 1 Axes>"
            ],
            "image/png": "[encoded data removed]"
          },
          "metadata": {
            "needs_background": "light"
          }
        },
        {
          "output_type": "stream",
          "name": "stdout",
          "text": [
            "1/1 [==============================] - 0s 26ms/step\n",
            "Predicted Class:  3\n",
            "Actual Class:  3\n"
          ]
        },
        {
          "output_type": "display_data",
          "data": {
            "text/plain": [
              "<Figure size 432x288 with 1 Axes>"
            ],
            "image/png": "[encoded data removed]"
          },
          "metadata": {
            "needs_background": "light"
          }
        },
        {
          "output_type": "stream",
          "name": "stdout",
          "text": [
            "1/1 [==============================] - 0s 23ms/step\n",
            "Predicted Class:  8\n",
            "Actual Class:  8\n"
          ]
        },
        {
          "output_type": "display_data",
          "data": {
            "text/plain": [
              "<Figure size 432x288 with 1 Axes>"
            ],
            "image/png": "[encoded data removed]"
          },
          "metadata": {
            "needs_background": "light"
          }
        },
        {
          "output_type": "stream",
          "name": "stdout",
          "text": [
            "1/1 [==============================] - 0s 25ms/step\n",
            "Predicted Class:  8\n",
            "Actual Class:  8\n"
          ]
        },
        {
          "output_type": "display_data",
          "data": {
            "text/plain": [
              "<Figure size 432x288 with 1 Axes>"
            ],
            "image/png": "[encoded data removed]"
          },
          "metadata": {
            "needs_background": "light"
          }
        },
        {
          "output_type": "stream",
          "name": "stdout",
          "text": [
            "1/1 [==============================] - 0s 22ms/step\n",
            "Predicted Class:  0\n",
            "Actual Class:  0\n"
          ]
        }
      ]
    },
    {
      "cell_type": "markdown",
      "source": [
        "The new CNN model predicted each of the first 4 images correctly as you can see above."
      ],
      "metadata": {
        "id": "YdWJQ_GQ_i9i"
      }
    },
    {
      "cell_type": "markdown",
      "source": [
        "Visualizing the loss and accuracy of the newly created CNN model"
      ],
      "metadata": {
        "id": "-33p1ZyZ2Peb"
      }
    },
    {
      "cell_type": "code",
      "source": [
        "plt.figure(figsize = (15,7))\n",
        "plt.subplot(1, 2, 1)\n",
        "plt.ylabel('Loss', fontsize = 16)\n",
        "plt.plot(history2.history['loss'], label = 'Training Loss')\n",
        "plt.plot(history2.history['val_loss'], label = 'Validation Loss')\n",
        "plt.legend(loc = 'upper right')\n",
        "\n",
        "plt.subplot(1, 2, 2)\n",
        "plt.ylabel('Accuracy', fontsize = 16)\n",
        "plt.plot(history2.history['accuracy'], label = 'Training Accuracy')\n",
        "plt.plot(history2.history['val_accuracy'], label = 'Validation Accuracy')\n",
        "plt.legend(loc = 'upper left')\n",
        "plt.show()"
      ],
      "metadata": {
        "colab": {
          "base_uri": "https://localhost:8080/",
          "height": 428
        },
        "id": "RxnhLHwH1Sua",
        "outputId": "258fd8db-f23a-4453-8b61-8fff781d4ec8"
      },
      "execution_count": 27,
      "outputs": [
        {
          "output_type": "display_data",
          "data": {
            "text/plain": [
              "<Figure size 1080x504 with 2 Axes>"
            ],
            "image/png": "[encoded data removed]"
          },
          "metadata": {
            "needs_background": "light"
          }
        }
      ]
    },
    {
      "cell_type": "markdown",
      "source": [
        "Based on the loss and accuracy training & validation plots shown above, we can see that we may be overfitting our model here. This may be able to be fixed slightly by using some sort of earlystopping within our model."
      ],
      "metadata": {
        "id": "PPpYtr0u59LZ"
      }
    }
  ]
}
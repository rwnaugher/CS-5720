{
 "cells": [
  {
   "cell_type": "code",
   "execution_count": 16,
   "id": "50f24638",
   "metadata": {},
   "outputs": [],
   "source": [
    "import pandas as pd\n",
    "import numpy as np\n",
    "from sklearn.svm import SVC, LinearSVC\n",
    "from sklearn.naive_bayes import GaussianNB\n",
    "from sklearn.model_selection import train_test_split\n",
    "from sklearn.metrics import classification_report"
   ]
  },
  {
   "cell_type": "code",
   "execution_count": 2,
   "id": "b4bfb8f9",
   "metadata": {},
   "outputs": [
    {
     "data": {
      "text/html": [
       "<div>\n",
       "<style scoped>\n",
       "    .dataframe tbody tr th:only-of-type {\n",
       "        vertical-align: middle;\n",
       "    }\n",
       "\n",
       "    .dataframe tbody tr th {\n",
       "        vertical-align: top;\n",
       "    }\n",
       "\n",
       "    .dataframe thead th {\n",
       "        text-align: right;\n",
       "    }\n",
       "</style>\n",
       "<table border=\"1\" class=\"dataframe\">\n",
       "  <thead>\n",
       "    <tr style=\"text-align: right;\">\n",
       "      <th></th>\n",
       "      <th>RI</th>\n",
       "      <th>Na</th>\n",
       "      <th>Mg</th>\n",
       "      <th>Al</th>\n",
       "      <th>Si</th>\n",
       "      <th>K</th>\n",
       "      <th>Ca</th>\n",
       "      <th>Ba</th>\n",
       "      <th>Fe</th>\n",
       "      <th>Type</th>\n",
       "    </tr>\n",
       "  </thead>\n",
       "  <tbody>\n",
       "    <tr>\n",
       "      <th>0</th>\n",
       "      <td>1.52101</td>\n",
       "      <td>13.64</td>\n",
       "      <td>4.49</td>\n",
       "      <td>1.10</td>\n",
       "      <td>71.78</td>\n",
       "      <td>0.06</td>\n",
       "      <td>8.75</td>\n",
       "      <td>0.0</td>\n",
       "      <td>0.0</td>\n",
       "      <td>1</td>\n",
       "    </tr>\n",
       "    <tr>\n",
       "      <th>1</th>\n",
       "      <td>1.51761</td>\n",
       "      <td>13.89</td>\n",
       "      <td>3.60</td>\n",
       "      <td>1.36</td>\n",
       "      <td>72.73</td>\n",
       "      <td>0.48</td>\n",
       "      <td>7.83</td>\n",
       "      <td>0.0</td>\n",
       "      <td>0.0</td>\n",
       "      <td>1</td>\n",
       "    </tr>\n",
       "    <tr>\n",
       "      <th>2</th>\n",
       "      <td>1.51618</td>\n",
       "      <td>13.53</td>\n",
       "      <td>3.55</td>\n",
       "      <td>1.54</td>\n",
       "      <td>72.99</td>\n",
       "      <td>0.39</td>\n",
       "      <td>7.78</td>\n",
       "      <td>0.0</td>\n",
       "      <td>0.0</td>\n",
       "      <td>1</td>\n",
       "    </tr>\n",
       "    <tr>\n",
       "      <th>3</th>\n",
       "      <td>1.51766</td>\n",
       "      <td>13.21</td>\n",
       "      <td>3.69</td>\n",
       "      <td>1.29</td>\n",
       "      <td>72.61</td>\n",
       "      <td>0.57</td>\n",
       "      <td>8.22</td>\n",
       "      <td>0.0</td>\n",
       "      <td>0.0</td>\n",
       "      <td>1</td>\n",
       "    </tr>\n",
       "    <tr>\n",
       "      <th>4</th>\n",
       "      <td>1.51742</td>\n",
       "      <td>13.27</td>\n",
       "      <td>3.62</td>\n",
       "      <td>1.24</td>\n",
       "      <td>73.08</td>\n",
       "      <td>0.55</td>\n",
       "      <td>8.07</td>\n",
       "      <td>0.0</td>\n",
       "      <td>0.0</td>\n",
       "      <td>1</td>\n",
       "    </tr>\n",
       "  </tbody>\n",
       "</table>\n",
       "</div>"
      ],
      "text/plain": [
       "        RI     Na    Mg    Al     Si     K    Ca   Ba   Fe  Type\n",
       "0  1.52101  13.64  4.49  1.10  71.78  0.06  8.75  0.0  0.0     1\n",
       "1  1.51761  13.89  3.60  1.36  72.73  0.48  7.83  0.0  0.0     1\n",
       "2  1.51618  13.53  3.55  1.54  72.99  0.39  7.78  0.0  0.0     1\n",
       "3  1.51766  13.21  3.69  1.29  72.61  0.57  8.22  0.0  0.0     1\n",
       "4  1.51742  13.27  3.62  1.24  73.08  0.55  8.07  0.0  0.0     1"
      ]
     },
     "execution_count": 2,
     "metadata": {},
     "output_type": "execute_result"
    }
   ],
   "source": [
    "#Loading in the glass dataset & looking at variables\n",
    "glass = pd.read_csv(\"C:/Users/rwnau/Desktop/NN-HW/glass.csv\")\n",
    "glass.head()"
   ]
  },
  {
   "cell_type": "code",
   "execution_count": 75,
   "id": "126b58e7",
   "metadata": {},
   "outputs": [],
   "source": [
    "#Splitting the variables into vectors of independent(inputs) and dependent(outputs) variables\n",
    "X = glass.iloc[:, :9].values\n",
    "Y = glass.iloc[:, 9].values"
   ]
  },
  {
   "cell_type": "code",
   "execution_count": 76,
   "id": "9d0482cf",
   "metadata": {},
   "outputs": [],
   "source": [
    "#Using train test split to create traing and test sets for the models, using 30% of the data for the test set\n",
    "X_Train, X_Test, Y_Train, Y_Test = train_test_split(X, Y, random_state = 0, test_size = .3)"
   ]
  },
  {
   "cell_type": "code",
   "execution_count": 77,
   "id": "0d6cc095",
   "metadata": {},
   "outputs": [],
   "source": [
    "#Creating and fitting/training the Gaussian Naive Bayes model\n",
    "NB = GaussianNB().fit(X_Train,Y_Train)\n",
    "#Predicting outputs using the Test inputs(X_Test)\n",
    "Y_Pred = NB.predict(X_Test)"
   ]
  },
  {
   "cell_type": "code",
   "execution_count": 78,
   "id": "4b964512",
   "metadata": {},
   "outputs": [
    {
     "name": "stdout",
     "output_type": "stream",
     "text": [
      "Score: 46.15\n",
      "              precision    recall  f1-score   support\n",
      "\n",
      "           1       0.39      0.86      0.54        21\n",
      "           2       0.50      0.12      0.19        26\n",
      "           3       0.00      0.00      0.00         7\n",
      "           5       0.00      0.00      0.00         2\n",
      "           6       0.67      1.00      0.80         2\n",
      "           7       0.88      1.00      0.93         7\n",
      "\n",
      "    accuracy                           0.46        65\n",
      "   macro avg       0.41      0.50      0.41        65\n",
      "weighted avg       0.44      0.46      0.37        65\n",
      "\n"
     ]
    }
   ],
   "source": [
    "#Outputting the Naive Bayes model score on the test set as well as the classification report to look at precision, recall, and F1 score\n",
    "print('Score:',round(NB.score(X_Test, Y_Test) * 100, 2))\n",
    "print(classification_report(Y_Test, Y_Pred))"
   ]
  },
  {
   "cell_type": "code",
   "execution_count": 79,
   "id": "af4f6ed0",
   "metadata": {},
   "outputs": [],
   "source": [
    "#Creating and fitting/training the linear SVM model \n",
    "SVM = SVC(kernel = 'linear').fit(X_Train,Y_Train)\n",
    "#lSVM = LinearSVC(max_iter = 1000000).fit(X_Train,Y_Train)\n",
    "#lY_Pred = lSVM.predict(X_Test)\n",
    "#Predicting outputs using the Test inputs(X_Test)\n",
    "Y_Pred = SVM.predict(X_Test)"
   ]
  },
  {
   "cell_type": "code",
   "execution_count": 80,
   "id": "63c12950",
   "metadata": {},
   "outputs": [
    {
     "name": "stdout",
     "output_type": "stream",
     "text": [
      "Score: 56.92\n",
      "              precision    recall  f1-score   support\n",
      "\n",
      "           1       0.48      0.71      0.58        21\n",
      "           2       0.57      0.50      0.53        26\n",
      "           3       0.00      0.00      0.00         7\n",
      "           5       0.67      1.00      0.80         2\n",
      "           6       0.00      0.00      0.00         2\n",
      "           7       1.00      1.00      1.00         7\n",
      "\n",
      "    accuracy                           0.57        65\n",
      "   macro avg       0.45      0.54      0.48        65\n",
      "weighted avg       0.51      0.57      0.53        65\n",
      "\n"
     ]
    },
    {
     "name": "stderr",
     "output_type": "stream",
     "text": [
      "c:\\users\\rwnau\\miniconda3\\lib\\site-packages\\sklearn\\metrics\\_classification.py:1318: UndefinedMetricWarning: Precision and F-score are ill-defined and being set to 0.0 in labels with no predicted samples. Use `zero_division` parameter to control this behavior.\n",
      "  _warn_prf(average, modifier, msg_start, len(result))\n",
      "c:\\users\\rwnau\\miniconda3\\lib\\site-packages\\sklearn\\metrics\\_classification.py:1318: UndefinedMetricWarning: Precision and F-score are ill-defined and being set to 0.0 in labels with no predicted samples. Use `zero_division` parameter to control this behavior.\n",
      "  _warn_prf(average, modifier, msg_start, len(result))\n",
      "c:\\users\\rwnau\\miniconda3\\lib\\site-packages\\sklearn\\metrics\\_classification.py:1318: UndefinedMetricWarning: Precision and F-score are ill-defined and being set to 0.0 in labels with no predicted samples. Use `zero_division` parameter to control this behavior.\n",
      "  _warn_prf(average, modifier, msg_start, len(result))\n"
     ]
    }
   ],
   "source": [
    "#Outputting the linear SVM model score on the test set as well as the classification report to look at precision, recall, and F1 score\n",
    "print('Score:',round(SVM.score(X_Test, Y_Test) * 100, 2))\n",
    "print(classification_report(Y_Test,Y_Pred))"
   ]
  },
  {
   "cell_type": "code",
   "execution_count": null,
   "id": "d3436770",
   "metadata": {},
   "outputs": [],
   "source": [
    "#The linear SVM model seems to have better metrics for score and accuracy, although the SVM is having trouble predicting class 3.\n",
    "#The two models are fairly similar in F1, precision and recall but SVM seems to perform better on average for each\n",
    "#Overall, I would say the SVM performs better."
   ]
  }
 ],
 "metadata": {
  "kernelspec": {
   "display_name": "Python 3 (ipykernel)",
   "language": "python",
   "name": "python3"
  },
  "language_info": {
   "codemirror_mode": {
    "name": "ipython",
    "version": 3
   },
   "file_extension": ".py",
   "mimetype": "text/x-python",
   "name": "python",
   "nbconvert_exporter": "python",
   "pygments_lexer": "ipython3",
   "version": "3.9.10"
  }
 },
 "nbformat": 4,
 "nbformat_minor": 5
}

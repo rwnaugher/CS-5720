{
  "nbformat": 4,
  "nbformat_minor": 0,
  "metadata": {
    "colab": {
      "provenance": []
    },
    "kernelspec": {
      "name": "python3",
      "display_name": "Python 3"
    },
    "language_info": {
      "name": "python"
    }
  },
  "cells": [
    {
      "cell_type": "code",
      "execution_count": 3,
      "metadata": {
        "colab": {
          "base_uri": "https://localhost:8080/"
        },
        "id": "KQAcyu-Ur2B0",
        "outputId": "da54a282-1575-4fa5-b8f4-2baadbed6347"
      },
      "outputs": [
        {
          "output_type": "stream",
          "name": "stdout",
          "text": [
            "Mounted at /content/gdrive\n"
          ]
        }
      ],
      "source": [
        "from google.colab import drive \n",
        "drive.mount('/content/gdrive') \n",
        "diabetes = '/content/gdrive/My Drive/diabetes.csv'\n",
        "bc = '/content/gdrive/My Drive/breastcancer.csv'"
      ]
    },
    {
      "cell_type": "code",
      "source": [
        "import keras\n",
        "import pandas\n",
        "from keras.models import Sequential\n",
        "from keras.layers.core import Dense, Activation\n",
        "from sklearn.model_selection import train_test_split\n",
        "import pandas as pd\n",
        "import numpy as np"
      ],
      "metadata": {
        "id": "kqEccxQeqg9z"
      },
      "execution_count": 2,
      "outputs": []
    },
    {
      "cell_type": "markdown",
      "source": [
        "ICP Part 1\n",
        "\n",
        "Using the diabetes dataset"
      ],
      "metadata": {
        "id": "hiWoMTzhxCq6"
      }
    },
    {
      "cell_type": "code",
      "source": [
        "#Diabetes dataset\n",
        "dataset = pd.read_csv(diabetes, header=None).values\n",
        "\n",
        "X_train, X_test, Y_train, Y_test = train_test_split(dataset[:,0:8], dataset[:,8],\n",
        "                                                    test_size=0.25, random_state=87)\n",
        "np.random.seed(155)\n",
        "my_first_nn = Sequential() # create model\n",
        "my_first_nn.add(Dense(20, input_dim=8, activation='relu')) # hidden layer\n",
        "#Adding 3 additional dense layers to see how accuracy changes\n",
        "my_first_nn.add(Dense(20, input_dim=8, activation='relu')) # additional hidden layer\n",
        "my_first_nn.add(Dense(20, input_dim=8, activation='relu')) # additional hidden layer\n",
        "my_first_nn.add(Dense(20, input_dim=8, activation='relu')) # additional hidden layer\n",
        "\n",
        "my_first_nn.add(Dense(1, activation='sigmoid')) # output layer\n",
        "my_first_nn.compile(loss='binary_crossentropy', optimizer='adam', metrics=['acc'])\n",
        "my_first_nn_fitted = my_first_nn.fit(X_train, Y_train, epochs=100,\n",
        "                                     initial_epoch=0)\n",
        "print(my_first_nn.summary())\n",
        "print(my_first_nn.evaluate(X_test, Y_test))"
      ],
      "metadata": {
        "colab": {
          "base_uri": "https://localhost:8080/"
        },
        "id": "rDvMMay4tCbz",
        "outputId": "e807ac7d-99b4-4c99-a322-a11a6e8a85de"
      },
      "execution_count": null,
      "outputs": [
        {
          "output_type": "stream",
          "name": "stdout",
          "text": [
            "Epoch 1/100\n",
            "18/18 [==============================] - 1s 2ms/step - loss: 4.4076 - acc: 0.4253\n",
            "Epoch 2/100\n",
            "18/18 [==============================] - 0s 2ms/step - loss: 1.4218 - acc: 0.4149\n",
            "Epoch 3/100\n",
            "18/18 [==============================] - 0s 2ms/step - loss: 0.9696 - acc: 0.4861\n",
            "Epoch 4/100\n",
            "18/18 [==============================] - 0s 2ms/step - loss: 0.7786 - acc: 0.5208\n",
            "Epoch 5/100\n",
            "18/18 [==============================] - 0s 2ms/step - loss: 0.6905 - acc: 0.6285\n",
            "Epoch 6/100\n",
            "18/18 [==============================] - 0s 2ms/step - loss: 0.6513 - acc: 0.6684\n",
            "Epoch 7/100\n",
            "18/18 [==============================] - 0s 2ms/step - loss: 0.6242 - acc: 0.6632\n",
            "Epoch 8/100\n",
            "18/18 [==============================] - 0s 2ms/step - loss: 0.6187 - acc: 0.6649\n",
            "Epoch 9/100\n",
            "18/18 [==============================] - 0s 2ms/step - loss: 0.6014 - acc: 0.6962\n",
            "Epoch 10/100\n",
            "18/18 [==============================] - 0s 2ms/step - loss: 0.5991 - acc: 0.6788\n",
            "Epoch 11/100\n",
            "18/18 [==============================] - 0s 2ms/step - loss: 0.6135 - acc: 0.6823\n",
            "Epoch 12/100\n",
            "18/18 [==============================] - 0s 2ms/step - loss: 0.5853 - acc: 0.6979\n",
            "Epoch 13/100\n",
            "18/18 [==============================] - 0s 2ms/step - loss: 0.5889 - acc: 0.6788\n",
            "Epoch 14/100\n",
            "18/18 [==============================] - 0s 2ms/step - loss: 0.5894 - acc: 0.6979\n",
            "Epoch 15/100\n",
            "18/18 [==============================] - 0s 3ms/step - loss: 0.5863 - acc: 0.7049\n",
            "Epoch 16/100\n",
            "18/18 [==============================] - 0s 2ms/step - loss: 0.6000 - acc: 0.6910\n",
            "Epoch 17/100\n",
            "18/18 [==============================] - 0s 2ms/step - loss: 0.5751 - acc: 0.7101\n",
            "Epoch 18/100\n",
            "18/18 [==============================] - 0s 2ms/step - loss: 0.5651 - acc: 0.7083\n",
            "Epoch 19/100\n",
            "18/18 [==============================] - 0s 2ms/step - loss: 0.5613 - acc: 0.7153\n",
            "Epoch 20/100\n",
            "18/18 [==============================] - 0s 2ms/step - loss: 0.5663 - acc: 0.6910\n",
            "Epoch 21/100\n",
            "18/18 [==============================] - 0s 2ms/step - loss: 0.5752 - acc: 0.7049\n",
            "Epoch 22/100\n",
            "18/18 [==============================] - 0s 2ms/step - loss: 0.5683 - acc: 0.7101\n",
            "Epoch 23/100\n",
            "18/18 [==============================] - 0s 2ms/step - loss: 0.5705 - acc: 0.7153\n",
            "Epoch 24/100\n",
            "18/18 [==============================] - 0s 2ms/step - loss: 0.5615 - acc: 0.7222\n",
            "Epoch 25/100\n",
            "18/18 [==============================] - 0s 2ms/step - loss: 0.5564 - acc: 0.7274\n",
            "Epoch 26/100\n",
            "18/18 [==============================] - 0s 2ms/step - loss: 0.5712 - acc: 0.7292\n",
            "Epoch 27/100\n",
            "18/18 [==============================] - 0s 2ms/step - loss: 0.5501 - acc: 0.7188\n",
            "Epoch 28/100\n",
            "18/18 [==============================] - 0s 2ms/step - loss: 0.5697 - acc: 0.6892\n",
            "Epoch 29/100\n",
            "18/18 [==============================] - 0s 2ms/step - loss: 0.5864 - acc: 0.6806\n",
            "Epoch 30/100\n",
            "18/18 [==============================] - 0s 2ms/step - loss: 0.5848 - acc: 0.7066\n",
            "Epoch 31/100\n",
            "18/18 [==============================] - 0s 2ms/step - loss: 0.5594 - acc: 0.7222\n",
            "Epoch 32/100\n",
            "18/18 [==============================] - 0s 2ms/step - loss: 0.5617 - acc: 0.7118\n",
            "Epoch 33/100\n",
            "18/18 [==============================] - 0s 2ms/step - loss: 0.5625 - acc: 0.6858\n",
            "Epoch 34/100\n",
            "18/18 [==============================] - 0s 2ms/step - loss: 0.5546 - acc: 0.7066\n",
            "Epoch 35/100\n",
            "18/18 [==============================] - 0s 2ms/step - loss: 0.5448 - acc: 0.7101\n",
            "Epoch 36/100\n",
            "18/18 [==============================] - 0s 2ms/step - loss: 0.5481 - acc: 0.7240\n",
            "Epoch 37/100\n",
            "18/18 [==============================] - 0s 2ms/step - loss: 0.5439 - acc: 0.7205\n",
            "Epoch 38/100\n",
            "18/18 [==============================] - 0s 2ms/step - loss: 0.5450 - acc: 0.7257\n",
            "Epoch 39/100\n",
            "18/18 [==============================] - 0s 2ms/step - loss: 0.5408 - acc: 0.7326\n",
            "Epoch 40/100\n",
            "18/18 [==============================] - 0s 2ms/step - loss: 0.5390 - acc: 0.7240\n",
            "Epoch 41/100\n",
            "18/18 [==============================] - 0s 2ms/step - loss: 0.5333 - acc: 0.7257\n",
            "Epoch 42/100\n",
            "18/18 [==============================] - 0s 2ms/step - loss: 0.5243 - acc: 0.7274\n",
            "Epoch 43/100\n",
            "18/18 [==============================] - 0s 2ms/step - loss: 0.5479 - acc: 0.7153\n",
            "Epoch 44/100\n",
            "18/18 [==============================] - 0s 2ms/step - loss: 0.5267 - acc: 0.7378\n",
            "Epoch 45/100\n",
            "18/18 [==============================] - 0s 2ms/step - loss: 0.5308 - acc: 0.7309\n",
            "Epoch 46/100\n",
            "18/18 [==============================] - 0s 2ms/step - loss: 0.5259 - acc: 0.7344\n",
            "Epoch 47/100\n",
            "18/18 [==============================] - 0s 2ms/step - loss: 0.5234 - acc: 0.7413\n",
            "Epoch 48/100\n",
            "18/18 [==============================] - 0s 2ms/step - loss: 0.5257 - acc: 0.7274\n",
            "Epoch 49/100\n",
            "18/18 [==============================] - 0s 2ms/step - loss: 0.5216 - acc: 0.7465\n",
            "Epoch 50/100\n",
            "18/18 [==============================] - 0s 2ms/step - loss: 0.5224 - acc: 0.7517\n",
            "Epoch 51/100\n",
            "18/18 [==============================] - 0s 2ms/step - loss: 0.5221 - acc: 0.7240\n",
            "Epoch 52/100\n",
            "18/18 [==============================] - 0s 2ms/step - loss: 0.5111 - acc: 0.7587\n",
            "Epoch 53/100\n",
            "18/18 [==============================] - 0s 2ms/step - loss: 0.5154 - acc: 0.7465\n",
            "Epoch 54/100\n",
            "18/18 [==============================] - 0s 2ms/step - loss: 0.5669 - acc: 0.7101\n",
            "Epoch 55/100\n",
            "18/18 [==============================] - 0s 2ms/step - loss: 0.5191 - acc: 0.7361\n",
            "Epoch 56/100\n",
            "18/18 [==============================] - 0s 3ms/step - loss: 0.5112 - acc: 0.7465\n",
            "Epoch 57/100\n",
            "18/18 [==============================] - 0s 2ms/step - loss: 0.5190 - acc: 0.7344\n",
            "Epoch 58/100\n",
            "18/18 [==============================] - 0s 3ms/step - loss: 0.5184 - acc: 0.7378\n",
            "Epoch 59/100\n",
            "18/18 [==============================] - 0s 3ms/step - loss: 0.5474 - acc: 0.7066\n",
            "Epoch 60/100\n",
            "18/18 [==============================] - 0s 2ms/step - loss: 0.5504 - acc: 0.7326\n",
            "Epoch 61/100\n",
            "18/18 [==============================] - 0s 2ms/step - loss: 0.5235 - acc: 0.7465\n",
            "Epoch 62/100\n",
            "18/18 [==============================] - 0s 2ms/step - loss: 0.5097 - acc: 0.7361\n",
            "Epoch 63/100\n",
            "18/18 [==============================] - 0s 2ms/step - loss: 0.5180 - acc: 0.7431\n",
            "Epoch 64/100\n",
            "18/18 [==============================] - 0s 2ms/step - loss: 0.5181 - acc: 0.7361\n",
            "Epoch 65/100\n",
            "18/18 [==============================] - 0s 2ms/step - loss: 0.5136 - acc: 0.7517\n",
            "Epoch 66/100\n",
            "18/18 [==============================] - 0s 2ms/step - loss: 0.5211 - acc: 0.7344\n",
            "Epoch 67/100\n",
            "18/18 [==============================] - 0s 3ms/step - loss: 0.5206 - acc: 0.7292\n",
            "Epoch 68/100\n",
            "18/18 [==============================] - 0s 2ms/step - loss: 0.5102 - acc: 0.7413\n",
            "Epoch 69/100\n",
            "18/18 [==============================] - 0s 2ms/step - loss: 0.5160 - acc: 0.7378\n",
            "Epoch 70/100\n",
            "18/18 [==============================] - 0s 2ms/step - loss: 0.5083 - acc: 0.7500\n",
            "Epoch 71/100\n",
            "18/18 [==============================] - 0s 2ms/step - loss: 0.5093 - acc: 0.7465\n",
            "Epoch 72/100\n",
            "18/18 [==============================] - 0s 2ms/step - loss: 0.5101 - acc: 0.7535\n",
            "Epoch 73/100\n",
            "18/18 [==============================] - 0s 2ms/step - loss: 0.4984 - acc: 0.7552\n",
            "Epoch 74/100\n",
            "18/18 [==============================] - 0s 2ms/step - loss: 0.4971 - acc: 0.7413\n",
            "Epoch 75/100\n",
            "18/18 [==============================] - 0s 2ms/step - loss: 0.5037 - acc: 0.7622\n",
            "Epoch 76/100\n",
            "18/18 [==============================] - 0s 2ms/step - loss: 0.5506 - acc: 0.7118\n",
            "Epoch 77/100\n",
            "18/18 [==============================] - 0s 2ms/step - loss: 0.5662 - acc: 0.7066\n",
            "Epoch 78/100\n",
            "18/18 [==============================] - 0s 2ms/step - loss: 0.5002 - acc: 0.7517\n",
            "Epoch 79/100\n",
            "18/18 [==============================] - 0s 2ms/step - loss: 0.5021 - acc: 0.7465\n",
            "Epoch 80/100\n",
            "18/18 [==============================] - 0s 2ms/step - loss: 0.4984 - acc: 0.7448\n",
            "Epoch 81/100\n",
            "18/18 [==============================] - 0s 2ms/step - loss: 0.4964 - acc: 0.7569\n",
            "Epoch 82/100\n",
            "18/18 [==============================] - 0s 2ms/step - loss: 0.4926 - acc: 0.7500\n",
            "Epoch 83/100\n",
            "18/18 [==============================] - 0s 2ms/step - loss: 0.5029 - acc: 0.7569\n",
            "Epoch 84/100\n",
            "18/18 [==============================] - 0s 2ms/step - loss: 0.5230 - acc: 0.7257\n",
            "Epoch 85/100\n",
            "18/18 [==============================] - 0s 3ms/step - loss: 0.4917 - acc: 0.7795\n",
            "Epoch 86/100\n",
            "18/18 [==============================] - 0s 2ms/step - loss: 0.4970 - acc: 0.7483\n",
            "Epoch 87/100\n",
            "18/18 [==============================] - 0s 2ms/step - loss: 0.5097 - acc: 0.7552\n",
            "Epoch 88/100\n",
            "18/18 [==============================] - 0s 2ms/step - loss: 0.5151 - acc: 0.7500\n",
            "Epoch 89/100\n",
            "18/18 [==============================] - 0s 2ms/step - loss: 0.5121 - acc: 0.7396\n",
            "Epoch 90/100\n",
            "18/18 [==============================] - 0s 2ms/step - loss: 0.5191 - acc: 0.7431\n",
            "Epoch 91/100\n",
            "18/18 [==============================] - 0s 2ms/step - loss: 0.4869 - acc: 0.7726\n",
            "Epoch 92/100\n",
            "18/18 [==============================] - 0s 3ms/step - loss: 0.5016 - acc: 0.7535\n",
            "Epoch 93/100\n",
            "18/18 [==============================] - 0s 3ms/step - loss: 0.4916 - acc: 0.7500\n",
            "Epoch 94/100\n",
            "18/18 [==============================] - 0s 2ms/step - loss: 0.4947 - acc: 0.7448\n",
            "Epoch 95/100\n",
            "18/18 [==============================] - 0s 2ms/step - loss: 0.4891 - acc: 0.7656\n",
            "Epoch 96/100\n",
            "18/18 [==============================] - 0s 2ms/step - loss: 0.4846 - acc: 0.7674\n",
            "Epoch 97/100\n",
            "18/18 [==============================] - 0s 2ms/step - loss: 0.4811 - acc: 0.7587\n",
            "Epoch 98/100\n",
            "18/18 [==============================] - 0s 2ms/step - loss: 0.4824 - acc: 0.7743\n",
            "Epoch 99/100\n",
            "18/18 [==============================] - 0s 2ms/step - loss: 0.4905 - acc: 0.7517\n",
            "Epoch 100/100\n",
            "18/18 [==============================] - 0s 3ms/step - loss: 0.4866 - acc: 0.7622\n",
            "Model: \"sequential_9\"\n",
            "_________________________________________________________________\n",
            " Layer (type)                Output Shape              Param #   \n",
            "=================================================================\n",
            " dense_38 (Dense)            (None, 20)                180       \n",
            "                                                                 \n",
            " dense_39 (Dense)            (None, 20)                420       \n",
            "                                                                 \n",
            " dense_40 (Dense)            (None, 20)                420       \n",
            "                                                                 \n",
            " dense_41 (Dense)            (None, 20)                420       \n",
            "                                                                 \n",
            " dense_42 (Dense)            (None, 1)                 21        \n",
            "                                                                 \n",
            "=================================================================\n",
            "Total params: 1,461\n",
            "Trainable params: 1,461\n",
            "Non-trainable params: 0\n",
            "_________________________________________________________________\n",
            "None\n",
            "6/6 [==============================] - 0s 2ms/step - loss: 0.5373 - acc: 0.7240\n",
            "[0.5373272895812988, 0.7239583134651184]\n"
          ]
        }
      ]
    },
    {
      "cell_type": "markdown",
      "source": [
        "Accuracy with only 1 dense layer: ~0.6771\n",
        "\n",
        "Accuracy with 3 dense layers: ~0.7240\n",
        "\n",
        "Adding the additional dense layers improved the accuracy ~5% which seems to be a efficient increase with only 3 extra lines of code."
      ],
      "metadata": {
        "id": "jlE1uj5PxMB6"
      }
    },
    {
      "cell_type": "markdown",
      "source": [
        "Using the breast cancer dataset"
      ],
      "metadata": {
        "id": "tv20VjfHxBga"
      }
    },
    {
      "cell_type": "code",
      "source": [
        "dataset = pd.read_csv(bc)\n",
        "dataset = dataset.drop(columns = ['id','Unnamed: 32'])\n",
        "dataset['diagnosis'] = dataset['diagnosis'].map({'M': 1, 'B': 0})\n",
        "data = dataset.values"
      ],
      "metadata": {
        "id": "HdkeUWjyyzar"
      },
      "execution_count": 50,
      "outputs": []
    },
    {
      "cell_type": "code",
      "source": [
        "#Breast Cancer dataset\n",
        "#dataset = pd.read_csv(bc).values\n",
        "\n",
        "X_train, X_test, Y_train, Y_test = train_test_split(data[:,1:31], data[:,0],\n",
        "                                                    test_size=0.25, random_state=87)\n",
        "np.random.seed(155)\n",
        "my_first_nn = Sequential() # create model\n",
        "my_first_nn.add(Dense(20, input_dim=30, activation='relu')) # hidden layer\n",
        "#Adding 3 additional dense layers to see how accuracy changes\n",
        "my_first_nn.add(Dense(20, input_dim=30, activation='relu')) # additional hidden layer\n",
        "my_first_nn.add(Dense(20, input_dim=30, activation='relu')) # additional hidden layer\n",
        "my_first_nn.add(Dense(20, input_dim=30, activation='relu')) # additional hidden layer\n",
        "\n",
        "my_first_nn.add(Dense(1, activation='sigmoid')) # output layer\n",
        "my_first_nn.compile(loss='binary_crossentropy', optimizer='adam', metrics=['acc'])\n",
        "my_first_nn_fitted = my_first_nn.fit(X_train, Y_train, epochs=100,initial_epoch=0)\n",
        "print(my_first_nn.summary())\n",
        "print(my_first_nn.evaluate(X_test, Y_test))"
      ],
      "metadata": {
        "colab": {
          "base_uri": "https://localhost:8080/"
        },
        "id": "QeTcXscRx90y",
        "outputId": "796fec5a-baf2-47dc-a0fe-f233b90c6295"
      },
      "execution_count": 51,
      "outputs": [
        {
          "output_type": "stream",
          "name": "stdout",
          "text": [
            "Epoch 1/100\n",
            "14/14 [==============================] - 1s 2ms/step - loss: 19.1218 - acc: 0.4249\n",
            "Epoch 2/100\n",
            "14/14 [==============================] - 0s 2ms/step - loss: 8.7200 - acc: 0.3709\n",
            "Epoch 3/100\n",
            "14/14 [==============================] - 0s 2ms/step - loss: 5.0494 - acc: 0.4601\n",
            "Epoch 4/100\n",
            "14/14 [==============================] - 0s 2ms/step - loss: 2.2647 - acc: 0.5376\n",
            "Epoch 5/100\n",
            "14/14 [==============================] - 0s 2ms/step - loss: 0.8119 - acc: 0.7183\n",
            "Epoch 6/100\n",
            "14/14 [==============================] - 0s 2ms/step - loss: 0.3614 - acc: 0.8779\n",
            "Epoch 7/100\n",
            "14/14 [==============================] - 0s 2ms/step - loss: 0.2349 - acc: 0.9178\n",
            "Epoch 8/100\n",
            "14/14 [==============================] - 0s 2ms/step - loss: 0.2206 - acc: 0.9225\n",
            "Epoch 9/100\n",
            "14/14 [==============================] - 0s 2ms/step - loss: 0.2183 - acc: 0.9225\n",
            "Epoch 10/100\n",
            "14/14 [==============================] - 0s 2ms/step - loss: 0.2782 - acc: 0.8850\n",
            "Epoch 11/100\n",
            "14/14 [==============================] - 0s 2ms/step - loss: 0.2765 - acc: 0.8873\n",
            "Epoch 12/100\n",
            "14/14 [==============================] - 0s 2ms/step - loss: 0.2636 - acc: 0.9014\n",
            "Epoch 13/100\n",
            "14/14 [==============================] - 0s 2ms/step - loss: 0.1908 - acc: 0.9272\n",
            "Epoch 14/100\n",
            "14/14 [==============================] - 0s 2ms/step - loss: 0.2038 - acc: 0.9319\n",
            "Epoch 15/100\n",
            "14/14 [==============================] - 0s 2ms/step - loss: 0.2001 - acc: 0.9178\n",
            "Epoch 16/100\n",
            "14/14 [==============================] - 0s 2ms/step - loss: 0.2706 - acc: 0.8873\n",
            "Epoch 17/100\n",
            "14/14 [==============================] - 0s 2ms/step - loss: 0.2337 - acc: 0.9225\n",
            "Epoch 18/100\n",
            "14/14 [==============================] - 0s 2ms/step - loss: 0.2017 - acc: 0.9249\n",
            "Epoch 19/100\n",
            "14/14 [==============================] - 0s 2ms/step - loss: 0.2720 - acc: 0.8944\n",
            "Epoch 20/100\n",
            "14/14 [==============================] - 0s 2ms/step - loss: 0.2151 - acc: 0.9178\n",
            "Epoch 21/100\n",
            "14/14 [==============================] - 0s 2ms/step - loss: 0.2328 - acc: 0.9225\n",
            "Epoch 22/100\n",
            "14/14 [==============================] - 0s 2ms/step - loss: 0.1900 - acc: 0.9343\n",
            "Epoch 23/100\n",
            "14/14 [==============================] - 0s 2ms/step - loss: 0.1827 - acc: 0.9272\n",
            "Epoch 24/100\n",
            "14/14 [==============================] - 0s 2ms/step - loss: 0.2657 - acc: 0.9108\n",
            "Epoch 25/100\n",
            "14/14 [==============================] - 0s 2ms/step - loss: 0.2493 - acc: 0.9085\n",
            "Epoch 26/100\n",
            "14/14 [==============================] - 0s 2ms/step - loss: 0.2079 - acc: 0.9249\n",
            "Epoch 27/100\n",
            "14/14 [==============================] - 0s 2ms/step - loss: 0.1940 - acc: 0.9319\n",
            "Epoch 28/100\n",
            "14/14 [==============================] - 0s 2ms/step - loss: 0.1795 - acc: 0.9272\n",
            "Epoch 29/100\n",
            "14/14 [==============================] - 0s 2ms/step - loss: 0.1851 - acc: 0.9343\n",
            "Epoch 30/100\n",
            "14/14 [==============================] - 0s 2ms/step - loss: 0.1835 - acc: 0.9296\n",
            "Epoch 31/100\n",
            "14/14 [==============================] - 0s 2ms/step - loss: 0.2111 - acc: 0.9296\n",
            "Epoch 32/100\n",
            "14/14 [==============================] - 0s 2ms/step - loss: 0.1992 - acc: 0.9296\n",
            "Epoch 33/100\n",
            "14/14 [==============================] - 0s 2ms/step - loss: 0.2283 - acc: 0.9272\n",
            "Epoch 34/100\n",
            "14/14 [==============================] - 0s 2ms/step - loss: 0.1746 - acc: 0.9390\n",
            "Epoch 35/100\n",
            "14/14 [==============================] - 0s 2ms/step - loss: 0.2053 - acc: 0.9319\n",
            "Epoch 36/100\n",
            "14/14 [==============================] - 0s 2ms/step - loss: 0.2161 - acc: 0.9225\n",
            "Epoch 37/100\n",
            "14/14 [==============================] - 0s 2ms/step - loss: 0.1976 - acc: 0.9202\n",
            "Epoch 38/100\n",
            "14/14 [==============================] - 0s 2ms/step - loss: 0.2156 - acc: 0.9319\n",
            "Epoch 39/100\n",
            "14/14 [==============================] - 0s 2ms/step - loss: 0.2006 - acc: 0.9225\n",
            "Epoch 40/100\n",
            "14/14 [==============================] - 0s 2ms/step - loss: 0.1869 - acc: 0.9319\n",
            "Epoch 41/100\n",
            "14/14 [==============================] - 0s 2ms/step - loss: 0.2168 - acc: 0.9225\n",
            "Epoch 42/100\n",
            "14/14 [==============================] - 0s 2ms/step - loss: 0.2175 - acc: 0.9249\n",
            "Epoch 43/100\n",
            "14/14 [==============================] - 0s 2ms/step - loss: 0.2669 - acc: 0.9061\n",
            "Epoch 44/100\n",
            "14/14 [==============================] - 0s 2ms/step - loss: 0.1837 - acc: 0.9272\n",
            "Epoch 45/100\n",
            "14/14 [==============================] - 0s 2ms/step - loss: 0.1955 - acc: 0.9343\n",
            "Epoch 46/100\n",
            "14/14 [==============================] - 0s 2ms/step - loss: 0.2237 - acc: 0.9343\n",
            "Epoch 47/100\n",
            "14/14 [==============================] - 0s 3ms/step - loss: 0.1721 - acc: 0.9390\n",
            "Epoch 48/100\n",
            "14/14 [==============================] - 0s 2ms/step - loss: 0.1825 - acc: 0.9319\n",
            "Epoch 49/100\n",
            "14/14 [==============================] - 0s 2ms/step - loss: 0.2033 - acc: 0.9484\n",
            "Epoch 50/100\n",
            "14/14 [==============================] - 0s 2ms/step - loss: 0.2757 - acc: 0.8967\n",
            "Epoch 51/100\n",
            "14/14 [==============================] - 0s 2ms/step - loss: 0.1887 - acc: 0.9272\n",
            "Epoch 52/100\n",
            "14/14 [==============================] - 0s 2ms/step - loss: 0.1956 - acc: 0.9319\n",
            "Epoch 53/100\n",
            "14/14 [==============================] - 0s 2ms/step - loss: 0.2474 - acc: 0.9249\n",
            "Epoch 54/100\n",
            "14/14 [==============================] - 0s 2ms/step - loss: 0.1844 - acc: 0.9390\n",
            "Epoch 55/100\n",
            "14/14 [==============================] - 0s 2ms/step - loss: 0.1893 - acc: 0.9366\n",
            "Epoch 56/100\n",
            "14/14 [==============================] - 0s 2ms/step - loss: 0.1696 - acc: 0.9437\n",
            "Epoch 57/100\n",
            "14/14 [==============================] - 0s 2ms/step - loss: 0.1854 - acc: 0.9343\n",
            "Epoch 58/100\n",
            "14/14 [==============================] - 0s 2ms/step - loss: 0.1868 - acc: 0.9366\n",
            "Epoch 59/100\n",
            "14/14 [==============================] - 0s 2ms/step - loss: 0.1765 - acc: 0.9437\n",
            "Epoch 60/100\n",
            "14/14 [==============================] - 0s 2ms/step - loss: 0.1758 - acc: 0.9390\n",
            "Epoch 61/100\n",
            "14/14 [==============================] - 0s 3ms/step - loss: 0.1892 - acc: 0.9296\n",
            "Epoch 62/100\n",
            "14/14 [==============================] - 0s 4ms/step - loss: 0.2033 - acc: 0.9343\n",
            "Epoch 63/100\n",
            "14/14 [==============================] - 0s 2ms/step - loss: 0.1654 - acc: 0.9390\n",
            "Epoch 64/100\n",
            "14/14 [==============================] - 0s 2ms/step - loss: 0.1702 - acc: 0.9390\n",
            "Epoch 65/100\n",
            "14/14 [==============================] - 0s 3ms/step - loss: 0.1878 - acc: 0.9272\n",
            "Epoch 66/100\n",
            "14/14 [==============================] - 0s 2ms/step - loss: 0.1635 - acc: 0.9390\n",
            "Epoch 67/100\n",
            "14/14 [==============================] - 0s 2ms/step - loss: 0.1604 - acc: 0.9390\n",
            "Epoch 68/100\n",
            "14/14 [==============================] - 0s 3ms/step - loss: 0.1827 - acc: 0.9366\n",
            "Epoch 69/100\n",
            "14/14 [==============================] - 0s 2ms/step - loss: 0.1660 - acc: 0.9413\n",
            "Epoch 70/100\n",
            "14/14 [==============================] - 0s 2ms/step - loss: 0.1675 - acc: 0.9343\n",
            "Epoch 71/100\n",
            "14/14 [==============================] - 0s 2ms/step - loss: 0.1828 - acc: 0.9272\n",
            "Epoch 72/100\n",
            "14/14 [==============================] - 0s 2ms/step - loss: 0.3269 - acc: 0.8991\n",
            "Epoch 73/100\n",
            "14/14 [==============================] - 0s 3ms/step - loss: 0.3206 - acc: 0.8991\n",
            "Epoch 74/100\n",
            "14/14 [==============================] - 0s 2ms/step - loss: 0.1731 - acc: 0.9225\n",
            "Epoch 75/100\n",
            "14/14 [==============================] - 0s 2ms/step - loss: 0.1682 - acc: 0.9390\n",
            "Epoch 76/100\n",
            "14/14 [==============================] - 0s 2ms/step - loss: 0.1646 - acc: 0.9413\n",
            "Epoch 77/100\n",
            "14/14 [==============================] - 0s 2ms/step - loss: 0.1621 - acc: 0.9413\n",
            "Epoch 78/100\n",
            "14/14 [==============================] - 0s 2ms/step - loss: 0.1662 - acc: 0.9319\n",
            "Epoch 79/100\n",
            "14/14 [==============================] - 0s 2ms/step - loss: 0.1638 - acc: 0.9366\n",
            "Epoch 80/100\n",
            "14/14 [==============================] - 0s 3ms/step - loss: 0.1708 - acc: 0.9272\n",
            "Epoch 81/100\n",
            "14/14 [==============================] - 0s 2ms/step - loss: 0.1718 - acc: 0.9272\n",
            "Epoch 82/100\n",
            "14/14 [==============================] - 0s 3ms/step - loss: 0.1678 - acc: 0.9366\n",
            "Epoch 83/100\n",
            "14/14 [==============================] - 0s 2ms/step - loss: 0.1563 - acc: 0.9296\n",
            "Epoch 84/100\n",
            "14/14 [==============================] - 0s 2ms/step - loss: 0.1553 - acc: 0.9343\n",
            "Epoch 85/100\n",
            "14/14 [==============================] - 0s 2ms/step - loss: 0.1672 - acc: 0.9366\n",
            "Epoch 86/100\n",
            "14/14 [==============================] - 0s 2ms/step - loss: 0.2929 - acc: 0.8967\n",
            "Epoch 87/100\n",
            "14/14 [==============================] - 0s 2ms/step - loss: 0.2397 - acc: 0.9202\n",
            "Epoch 88/100\n",
            "14/14 [==============================] - 0s 2ms/step - loss: 0.1910 - acc: 0.9390\n",
            "Epoch 89/100\n",
            "14/14 [==============================] - 0s 2ms/step - loss: 0.1671 - acc: 0.9366\n",
            "Epoch 90/100\n",
            "14/14 [==============================] - 0s 2ms/step - loss: 0.1693 - acc: 0.9343\n",
            "Epoch 91/100\n",
            "14/14 [==============================] - 0s 2ms/step - loss: 0.1609 - acc: 0.9390\n",
            "Epoch 92/100\n",
            "14/14 [==============================] - 0s 2ms/step - loss: 0.2577 - acc: 0.9085\n",
            "Epoch 93/100\n",
            "14/14 [==============================] - 0s 2ms/step - loss: 0.1898 - acc: 0.9202\n",
            "Epoch 94/100\n",
            "14/14 [==============================] - 0s 2ms/step - loss: 0.1779 - acc: 0.9249\n",
            "Epoch 95/100\n",
            "14/14 [==============================] - 0s 2ms/step - loss: 0.1638 - acc: 0.9343\n",
            "Epoch 96/100\n",
            "14/14 [==============================] - 0s 2ms/step - loss: 0.1519 - acc: 0.9437\n",
            "Epoch 97/100\n",
            "14/14 [==============================] - 0s 2ms/step - loss: 0.2217 - acc: 0.9272\n",
            "Epoch 98/100\n",
            "14/14 [==============================] - 0s 2ms/step - loss: 0.1723 - acc: 0.9343\n",
            "Epoch 99/100\n",
            "14/14 [==============================] - 0s 2ms/step - loss: 0.2486 - acc: 0.9038\n",
            "Epoch 100/100\n",
            "14/14 [==============================] - 0s 2ms/step - loss: 0.1732 - acc: 0.9343\n",
            "Model: \"sequential_6\"\n",
            "_________________________________________________________________\n",
            " Layer (type)                Output Shape              Param #   \n",
            "=================================================================\n",
            " dense_30 (Dense)            (None, 20)                620       \n",
            "                                                                 \n",
            " dense_31 (Dense)            (None, 20)                420       \n",
            "                                                                 \n",
            " dense_32 (Dense)            (None, 20)                420       \n",
            "                                                                 \n",
            " dense_33 (Dense)            (None, 20)                420       \n",
            "                                                                 \n",
            " dense_34 (Dense)            (None, 1)                 21        \n",
            "                                                                 \n",
            "=================================================================\n",
            "Total params: 1,901\n",
            "Trainable params: 1,901\n",
            "Non-trainable params: 0\n",
            "_________________________________________________________________\n",
            "None\n",
            "5/5 [==============================] - 0s 3ms/step - loss: 0.3066 - acc: 0.8741\n",
            "[0.306610643863678, 0.8741258978843689]\n"
          ]
        }
      ]
    },
    {
      "cell_type": "markdown",
      "source": [
        "The model that includes 4 dense layers had an accuracy ~0.8741"
      ],
      "metadata": {
        "id": "k79k0jR2vLP1"
      }
    },
    {
      "cell_type": "markdown",
      "source": [
        "Normalizing the data using StandardScaler"
      ],
      "metadata": {
        "id": "oLR35em5vW3l"
      }
    },
    {
      "cell_type": "code",
      "source": [
        "from sklearn.preprocessing import StandardScaler\n",
        "sc = StandardScaler()\n",
        "#Fitting the scaler using only the training data\n",
        "X_train = sc.fit_transform(X_train)\n",
        "#Transforming the testing data using the scaler that was fitted on the training data\n",
        "X_test = sc.transform (X_test)\n",
        "\n",
        "my_first_nn = Sequential() # create model\n",
        "my_first_nn.add(Dense(20, input_dim=30, activation='relu')) # hidden layer\n",
        "#Adding 3 additional dense layers to see how accuracy changes\n",
        "my_first_nn.add(Dense(20, input_dim=30, activation='relu')) # additional hidden layer\n",
        "my_first_nn.add(Dense(20, input_dim=30, activation='relu')) # additional hidden layer\n",
        "my_first_nn.add(Dense(20, input_dim=30, activation='relu')) # additional hidden layer\n",
        "\n",
        "my_first_nn.add(Dense(1, activation='sigmoid')) # output layer\n",
        "my_first_nn.compile(loss='binary_crossentropy', optimizer='adam', metrics=['acc'])\n",
        "my_first_nn_fitted = my_first_nn.fit(X_train, Y_train, epochs=100,initial_epoch=0)\n",
        "print(my_first_nn.summary())\n",
        "print(my_first_nn.evaluate(X_test, Y_test))"
      ],
      "metadata": {
        "id": "s8HNWZ9Xy_Fs",
        "colab": {
          "base_uri": "https://localhost:8080/"
        },
        "outputId": "b259f02a-aba2-4dab-d5ef-6f287949ac96"
      },
      "execution_count": 52,
      "outputs": [
        {
          "output_type": "stream",
          "name": "stdout",
          "text": [
            "Epoch 1/100\n",
            "14/14 [==============================] - 1s 2ms/step - loss: 0.5856 - acc: 0.7958\n",
            "Epoch 2/100\n",
            "14/14 [==============================] - 0s 2ms/step - loss: 0.4443 - acc: 0.9155\n",
            "Epoch 3/100\n",
            "14/14 [==============================] - 0s 2ms/step - loss: 0.3071 - acc: 0.9437\n",
            "Epoch 4/100\n",
            "14/14 [==============================] - 0s 2ms/step - loss: 0.2066 - acc: 0.9531\n",
            "Epoch 5/100\n",
            "14/14 [==============================] - 0s 2ms/step - loss: 0.1495 - acc: 0.9624\n",
            "Epoch 6/100\n",
            "14/14 [==============================] - 0s 2ms/step - loss: 0.1189 - acc: 0.9671\n",
            "Epoch 7/100\n",
            "14/14 [==============================] - 0s 2ms/step - loss: 0.0969 - acc: 0.9695\n",
            "Epoch 8/100\n",
            "14/14 [==============================] - 0s 2ms/step - loss: 0.0815 - acc: 0.9742\n",
            "Epoch 9/100\n",
            "14/14 [==============================] - 0s 2ms/step - loss: 0.0716 - acc: 0.9765\n",
            "Epoch 10/100\n",
            "14/14 [==============================] - 0s 2ms/step - loss: 0.0628 - acc: 0.9836\n",
            "Epoch 11/100\n",
            "14/14 [==============================] - 0s 3ms/step - loss: 0.0561 - acc: 0.9836\n",
            "Epoch 12/100\n",
            "14/14 [==============================] - 0s 4ms/step - loss: 0.0513 - acc: 0.9883\n",
            "Epoch 13/100\n",
            "14/14 [==============================] - 0s 2ms/step - loss: 0.0467 - acc: 0.9883\n",
            "Epoch 14/100\n",
            "14/14 [==============================] - 0s 2ms/step - loss: 0.0426 - acc: 0.9906\n",
            "Epoch 15/100\n",
            "14/14 [==============================] - 0s 2ms/step - loss: 0.0385 - acc: 0.9906\n",
            "Epoch 16/100\n",
            "14/14 [==============================] - 0s 2ms/step - loss: 0.0351 - acc: 0.9906\n",
            "Epoch 17/100\n",
            "14/14 [==============================] - 0s 2ms/step - loss: 0.0330 - acc: 0.9930\n",
            "Epoch 18/100\n",
            "14/14 [==============================] - 0s 3ms/step - loss: 0.0297 - acc: 0.9930\n",
            "Epoch 19/100\n",
            "14/14 [==============================] - 0s 2ms/step - loss: 0.0271 - acc: 0.9906\n",
            "Epoch 20/100\n",
            "14/14 [==============================] - 0s 3ms/step - loss: 0.0263 - acc: 0.9930\n",
            "Epoch 21/100\n",
            "14/14 [==============================] - 0s 3ms/step - loss: 0.0225 - acc: 0.9930\n",
            "Epoch 22/100\n",
            "14/14 [==============================] - 0s 3ms/step - loss: 0.0209 - acc: 0.9906\n",
            "Epoch 23/100\n",
            "14/14 [==============================] - 0s 2ms/step - loss: 0.0181 - acc: 0.9953\n",
            "Epoch 24/100\n",
            "14/14 [==============================] - 0s 2ms/step - loss: 0.0167 - acc: 0.9977\n",
            "Epoch 25/100\n",
            "14/14 [==============================] - 0s 2ms/step - loss: 0.0155 - acc: 0.9977\n",
            "Epoch 26/100\n",
            "14/14 [==============================] - 0s 2ms/step - loss: 0.0137 - acc: 0.9977\n",
            "Epoch 27/100\n",
            "14/14 [==============================] - 0s 2ms/step - loss: 0.0127 - acc: 0.9977\n",
            "Epoch 28/100\n",
            "14/14 [==============================] - 0s 2ms/step - loss: 0.0118 - acc: 0.9977\n",
            "Epoch 29/100\n",
            "14/14 [==============================] - 0s 2ms/step - loss: 0.0110 - acc: 0.9977\n",
            "Epoch 30/100\n",
            "14/14 [==============================] - 0s 2ms/step - loss: 0.0104 - acc: 0.9977\n",
            "Epoch 31/100\n",
            "14/14 [==============================] - 0s 2ms/step - loss: 0.0091 - acc: 0.9977\n",
            "Epoch 32/100\n",
            "14/14 [==============================] - 0s 2ms/step - loss: 0.0080 - acc: 1.0000\n",
            "Epoch 33/100\n",
            "14/14 [==============================] - 0s 3ms/step - loss: 0.0072 - acc: 1.0000\n",
            "Epoch 34/100\n",
            "14/14 [==============================] - 0s 3ms/step - loss: 0.0068 - acc: 1.0000\n",
            "Epoch 35/100\n",
            "14/14 [==============================] - 0s 3ms/step - loss: 0.0061 - acc: 1.0000\n",
            "Epoch 36/100\n",
            "14/14 [==============================] - 0s 2ms/step - loss: 0.0057 - acc: 1.0000\n",
            "Epoch 37/100\n",
            "14/14 [==============================] - 0s 3ms/step - loss: 0.0052 - acc: 1.0000\n",
            "Epoch 38/100\n",
            "14/14 [==============================] - 0s 3ms/step - loss: 0.0050 - acc: 1.0000\n",
            "Epoch 39/100\n",
            "14/14 [==============================] - 0s 3ms/step - loss: 0.0045 - acc: 1.0000\n",
            "Epoch 40/100\n",
            "14/14 [==============================] - 0s 3ms/step - loss: 0.0041 - acc: 1.0000\n",
            "Epoch 41/100\n",
            "14/14 [==============================] - 0s 2ms/step - loss: 0.0037 - acc: 1.0000\n",
            "Epoch 42/100\n",
            "14/14 [==============================] - 0s 2ms/step - loss: 0.0034 - acc: 1.0000\n",
            "Epoch 43/100\n",
            "14/14 [==============================] - 0s 2ms/step - loss: 0.0034 - acc: 1.0000\n",
            "Epoch 44/100\n",
            "14/14 [==============================] - 0s 2ms/step - loss: 0.0031 - acc: 1.0000\n",
            "Epoch 45/100\n",
            "14/14 [==============================] - 0s 2ms/step - loss: 0.0053 - acc: 1.0000\n",
            "Epoch 46/100\n",
            "14/14 [==============================] - 0s 2ms/step - loss: 0.0037 - acc: 1.0000\n",
            "Epoch 47/100\n",
            "14/14 [==============================] - 0s 3ms/step - loss: 0.0027 - acc: 1.0000\n",
            "Epoch 48/100\n",
            "14/14 [==============================] - 0s 2ms/step - loss: 0.0024 - acc: 1.0000\n",
            "Epoch 49/100\n",
            "14/14 [==============================] - 0s 4ms/step - loss: 0.0021 - acc: 1.0000\n",
            "Epoch 50/100\n",
            "14/14 [==============================] - 0s 3ms/step - loss: 0.0019 - acc: 1.0000\n",
            "Epoch 51/100\n",
            "14/14 [==============================] - 0s 2ms/step - loss: 0.0017 - acc: 1.0000\n",
            "Epoch 52/100\n",
            "14/14 [==============================] - 0s 2ms/step - loss: 0.0016 - acc: 1.0000\n",
            "Epoch 53/100\n",
            "14/14 [==============================] - 0s 2ms/step - loss: 0.0015 - acc: 1.0000\n",
            "Epoch 54/100\n",
            "14/14 [==============================] - 0s 2ms/step - loss: 0.0014 - acc: 1.0000\n",
            "Epoch 55/100\n",
            "14/14 [==============================] - 0s 2ms/step - loss: 0.0014 - acc: 1.0000\n",
            "Epoch 56/100\n",
            "14/14 [==============================] - 0s 2ms/step - loss: 0.0013 - acc: 1.0000\n",
            "Epoch 57/100\n",
            "14/14 [==============================] - 0s 2ms/step - loss: 0.0013 - acc: 1.0000\n",
            "Epoch 58/100\n",
            "14/14 [==============================] - 0s 2ms/step - loss: 0.0012 - acc: 1.0000\n",
            "Epoch 59/100\n",
            "14/14 [==============================] - 0s 2ms/step - loss: 0.0011 - acc: 1.0000\n",
            "Epoch 60/100\n",
            "14/14 [==============================] - 0s 2ms/step - loss: 0.0010 - acc: 1.0000\n",
            "Epoch 61/100\n",
            "14/14 [==============================] - 0s 2ms/step - loss: 0.0010 - acc: 1.0000\n",
            "Epoch 62/100\n",
            "14/14 [==============================] - 0s 2ms/step - loss: 9.1030e-04 - acc: 1.0000\n",
            "Epoch 63/100\n",
            "14/14 [==============================] - 0s 3ms/step - loss: 8.5847e-04 - acc: 1.0000\n",
            "Epoch 64/100\n",
            "14/14 [==============================] - 0s 3ms/step - loss: 8.4431e-04 - acc: 1.0000\n",
            "Epoch 65/100\n",
            "14/14 [==============================] - 0s 3ms/step - loss: 7.8127e-04 - acc: 1.0000\n",
            "Epoch 66/100\n",
            "14/14 [==============================] - 0s 3ms/step - loss: 7.4275e-04 - acc: 1.0000\n",
            "Epoch 67/100\n",
            "14/14 [==============================] - 0s 2ms/step - loss: 6.8898e-04 - acc: 1.0000\n",
            "Epoch 68/100\n",
            "14/14 [==============================] - 0s 3ms/step - loss: 6.6523e-04 - acc: 1.0000\n",
            "Epoch 69/100\n",
            "14/14 [==============================] - 0s 2ms/step - loss: 6.4138e-04 - acc: 1.0000\n",
            "Epoch 70/100\n",
            "14/14 [==============================] - 0s 2ms/step - loss: 6.0199e-04 - acc: 1.0000\n",
            "Epoch 71/100\n",
            "14/14 [==============================] - 0s 3ms/step - loss: 5.7184e-04 - acc: 1.0000\n",
            "Epoch 72/100\n",
            "14/14 [==============================] - 0s 3ms/step - loss: 5.6531e-04 - acc: 1.0000\n",
            "Epoch 73/100\n",
            "14/14 [==============================] - 0s 3ms/step - loss: 5.2190e-04 - acc: 1.0000\n",
            "Epoch 74/100\n",
            "14/14 [==============================] - 0s 3ms/step - loss: 5.0845e-04 - acc: 1.0000\n",
            "Epoch 75/100\n",
            "14/14 [==============================] - 0s 2ms/step - loss: 5.0128e-04 - acc: 1.0000\n",
            "Epoch 76/100\n",
            "14/14 [==============================] - 0s 2ms/step - loss: 4.7529e-04 - acc: 1.0000\n",
            "Epoch 77/100\n",
            "14/14 [==============================] - 0s 2ms/step - loss: 4.3554e-04 - acc: 1.0000\n",
            "Epoch 78/100\n",
            "14/14 [==============================] - 0s 2ms/step - loss: 4.1586e-04 - acc: 1.0000\n",
            "Epoch 79/100\n",
            "14/14 [==============================] - 0s 2ms/step - loss: 4.1066e-04 - acc: 1.0000\n",
            "Epoch 80/100\n",
            "14/14 [==============================] - 0s 2ms/step - loss: 3.8809e-04 - acc: 1.0000\n",
            "Epoch 81/100\n",
            "14/14 [==============================] - 0s 2ms/step - loss: 3.7620e-04 - acc: 1.0000\n",
            "Epoch 82/100\n",
            "14/14 [==============================] - 0s 2ms/step - loss: 3.5579e-04 - acc: 1.0000\n",
            "Epoch 83/100\n",
            "14/14 [==============================] - 0s 2ms/step - loss: 3.4602e-04 - acc: 1.0000\n",
            "Epoch 84/100\n",
            "14/14 [==============================] - 0s 2ms/step - loss: 3.3244e-04 - acc: 1.0000\n",
            "Epoch 85/100\n",
            "14/14 [==============================] - 0s 2ms/step - loss: 3.1840e-04 - acc: 1.0000\n",
            "Epoch 86/100\n",
            "14/14 [==============================] - 0s 2ms/step - loss: 3.0910e-04 - acc: 1.0000\n",
            "Epoch 87/100\n",
            "14/14 [==============================] - 0s 2ms/step - loss: 2.9960e-04 - acc: 1.0000\n",
            "Epoch 88/100\n",
            "14/14 [==============================] - 0s 2ms/step - loss: 2.9142e-04 - acc: 1.0000\n",
            "Epoch 89/100\n",
            "14/14 [==============================] - 0s 3ms/step - loss: 2.8001e-04 - acc: 1.0000\n",
            "Epoch 90/100\n",
            "14/14 [==============================] - 0s 2ms/step - loss: 2.7433e-04 - acc: 1.0000\n",
            "Epoch 91/100\n",
            "14/14 [==============================] - 0s 2ms/step - loss: 2.6488e-04 - acc: 1.0000\n",
            "Epoch 92/100\n",
            "14/14 [==============================] - 0s 2ms/step - loss: 2.5445e-04 - acc: 1.0000\n",
            "Epoch 93/100\n",
            "14/14 [==============================] - 0s 2ms/step - loss: 2.4728e-04 - acc: 1.0000\n",
            "Epoch 94/100\n",
            "14/14 [==============================] - 0s 2ms/step - loss: 2.3821e-04 - acc: 1.0000\n",
            "Epoch 95/100\n",
            "14/14 [==============================] - 0s 2ms/step - loss: 2.3058e-04 - acc: 1.0000\n",
            "Epoch 96/100\n",
            "14/14 [==============================] - 0s 2ms/step - loss: 2.2319e-04 - acc: 1.0000\n",
            "Epoch 97/100\n",
            "14/14 [==============================] - 0s 2ms/step - loss: 2.1891e-04 - acc: 1.0000\n",
            "Epoch 98/100\n",
            "14/14 [==============================] - 0s 3ms/step - loss: 2.1393e-04 - acc: 1.0000\n",
            "Epoch 99/100\n",
            "14/14 [==============================] - 0s 2ms/step - loss: 2.0568e-04 - acc: 1.0000\n",
            "Epoch 100/100\n",
            "14/14 [==============================] - 0s 2ms/step - loss: 1.9887e-04 - acc: 1.0000\n",
            "Model: \"sequential_7\"\n",
            "_________________________________________________________________\n",
            " Layer (type)                Output Shape              Param #   \n",
            "=================================================================\n",
            " dense_35 (Dense)            (None, 20)                620       \n",
            "                                                                 \n",
            " dense_36 (Dense)            (None, 20)                420       \n",
            "                                                                 \n",
            " dense_37 (Dense)            (None, 20)                420       \n",
            "                                                                 \n",
            " dense_38 (Dense)            (None, 20)                420       \n",
            "                                                                 \n",
            " dense_39 (Dense)            (None, 1)                 21        \n",
            "                                                                 \n",
            "=================================================================\n",
            "Total params: 1,901\n",
            "Trainable params: 1,901\n",
            "Non-trainable params: 0\n",
            "_________________________________________________________________\n",
            "None\n",
            "5/5 [==============================] - 0s 3ms/step - loss: 0.4486 - acc: 0.9650\n",
            "[0.4486065208911896, 0.9650349617004395]\n"
          ]
        }
      ]
    },
    {
      "cell_type": "markdown",
      "source": [
        "Scaling the data using StandardScaler seems to have helped with the accuracy of the model tremendously. This can be seen because the variables used in the model have different ranges/magnitude and variance so scaling/normalizing them to be on the same 'scale' helps to reduce the variety of ranges and variance among the variables. This technique can help to alleviate the effect that outliers present in the data have on the training process of the model."
      ],
      "metadata": {
        "id": "PtNxq6Mqw88c"
      }
    },
    {
      "cell_type": "markdown",
      "source": [
        "ICP Part 2:\n",
        "\n",
        "MNIST digits dataset"
      ],
      "metadata": {
        "id": "ZZSKMerMyAH6"
      }
    },
    {
      "cell_type": "code",
      "source": [
        "from keras.datasets import mnist\n",
        "from keras.utils import to_categorical\n",
        "\n",
        "(train_images,train_labels),(test_images, test_labels) = mnist.load_data()\n",
        "\n",
        "print(train_images.shape[1:])\n",
        "#process the data\n",
        "#1. convert each image of shape 28*28 to 784 dimensional which will be fed to the network as a single feature\n",
        "dimData = np.prod(train_images.shape[1:])\n",
        "print(dimData)\n",
        "train_data = train_images.reshape(train_images.shape[0],dimData)\n",
        "test_data = test_images.reshape(test_images.shape[0],dimData)\n",
        "\n",
        "#convert data to float and scale values between 0 and 1\n",
        "train_data = train_data.astype('float')\n",
        "test_data = test_data.astype('float')\n",
        "#scale data\n",
        "train_data /=255.0\n",
        "test_data /=255.0\n",
        "#change the labels frominteger to one-hot encoding. to_categorical is doing the same thing as LabelEncoder()\n",
        "train_labels_one_hot = to_categorical(train_labels)\n",
        "test_labels_one_hot = to_categorical(test_labels)\n",
        "\n",
        "#creating network\n",
        "model = Sequential()\n",
        "model.add(Dense(512, activation='relu', input_shape=(dimData,)))\n",
        "model.add(Dense(512, activation='relu'))\n",
        "model.add(Dense(10, activation='softmax'))\n",
        "\n",
        "model.compile(optimizer='rmsprop', loss='categorical_crossentropy', metrics=['accuracy'])\n",
        "history = model.fit(train_data, train_labels_one_hot, batch_size=256, epochs=10, verbose=1,\n",
        "                   validation_data=(test_data, test_labels_one_hot))"
      ],
      "metadata": {
        "colab": {
          "base_uri": "https://localhost:8080/"
        },
        "id": "Q9G211UNx_iM",
        "outputId": "98d1d68f-e883-43d7-bd01-1af5a3373dd2"
      },
      "execution_count": 53,
      "outputs": [
        {
          "output_type": "stream",
          "name": "stdout",
          "text": [
            "Downloading data from https://storage.googleapis.com/tensorflow/tf-keras-datasets/mnist.npz\n",
            "11490434/11490434 [==============================] - 0s 0us/step\n",
            "(28, 28)\n",
            "784\n",
            "Epoch 1/10\n",
            "235/235 [==============================] - 5s 21ms/step - loss: 0.2909 - accuracy: 0.9097 - val_loss: 0.1206 - val_accuracy: 0.9606\n",
            "Epoch 2/10\n",
            "235/235 [==============================] - 5s 21ms/step - loss: 0.1008 - accuracy: 0.9693 - val_loss: 0.1136 - val_accuracy: 0.9618\n",
            "Epoch 3/10\n",
            "235/235 [==============================] - 6s 24ms/step - loss: 0.0644 - accuracy: 0.9801 - val_loss: 0.1093 - val_accuracy: 0.9667\n",
            "Epoch 4/10\n",
            "235/235 [==============================] - 5s 19ms/step - loss: 0.0441 - accuracy: 0.9866 - val_loss: 0.0624 - val_accuracy: 0.9795\n",
            "Epoch 5/10\n",
            "235/235 [==============================] - 6s 25ms/step - loss: 0.0322 - accuracy: 0.9896 - val_loss: 0.1041 - val_accuracy: 0.9665\n",
            "Epoch 6/10\n",
            "235/235 [==============================] - 4s 19ms/step - loss: 0.0231 - accuracy: 0.9927 - val_loss: 0.0598 - val_accuracy: 0.9812\n",
            "Epoch 7/10\n",
            "235/235 [==============================] - 5s 20ms/step - loss: 0.0171 - accuracy: 0.9947 - val_loss: 0.0730 - val_accuracy: 0.9794\n",
            "Epoch 8/10\n",
            "235/235 [==============================] - 6s 24ms/step - loss: 0.0121 - accuracy: 0.9960 - val_loss: 0.0611 - val_accuracy: 0.9838\n",
            "Epoch 9/10\n",
            "235/235 [==============================] - 5s 20ms/step - loss: 0.0103 - accuracy: 0.9968 - val_loss: 0.0727 - val_accuracy: 0.9818\n",
            "Epoch 10/10\n",
            "235/235 [==============================] - 5s 23ms/step - loss: 0.0070 - accuracy: 0.9979 - val_loss: 0.0627 - val_accuracy: 0.9847\n"
          ]
        }
      ]
    },
    {
      "cell_type": "markdown",
      "source": [
        "Plotting training & validation loss and accuracy"
      ],
      "metadata": {
        "id": "L7wZ5Yv60U-1"
      }
    },
    {
      "cell_type": "code",
      "source": [
        "import matplotlib.pyplot as plt\n",
        "plt.figure(figsize = (15,7))\n",
        "plt.subplot(1, 2, 1)\n",
        "plt.ylabel('Loss', fontsize = 16)\n",
        "plt.plot(history.history['loss'], label = 'Training Loss')\n",
        "plt.plot(history.history['val_loss'], label = 'Validation Loss')\n",
        "plt.legend(loc = 'upper right')\n",
        "\n",
        "plt.subplot(1, 2, 2)\n",
        "plt.ylabel('Accuracy', fontsize = 16)\n",
        "plt.plot(history.history['accuracy'], label = 'Training Accuracy')\n",
        "plt.plot(history.history['val_accuracy'], label = 'Validation Accuracy')\n",
        "plt.legend(loc = 'upper left')\n",
        "plt.show()"
      ],
      "metadata": {
        "colab": {
          "base_uri": "https://localhost:8080/",
          "height": 428
        },
        "id": "jDh62I53zpQl",
        "outputId": "6067e21f-a1b8-463e-c68b-9c4a3b4d17ad"
      },
      "execution_count": 2,
      "outputs": [
        {
          "output_type": "display_data",
          "data": {
            "text/plain": [
              "<Figure size 1080x504 with 2 Axes>"
            ],
            "image/png": "[encoded data removed]"
          },
          "metadata": {
            "needs_background": "light"
          }
        }
      ]
    },
    {
      "cell_type": "markdown",
      "source": [
        "The loss graph may be showing signs of overfitting because of the training loss going towards zero while the validation loss is not steadily decreasing, training with more epochs would likely help answer that question.\n",
        "\n",
        "The accuracy graph also shows that there may be some slight overfitting because of the gap between the training and validation curves."
      ],
      "metadata": {
        "id": "pAD1a7RZ-eFN"
      }
    },
    {
      "cell_type": "markdown",
      "source": [
        "Plotting & predicting an image with the model"
      ],
      "metadata": {
        "id": "_vxiJNa60xaS"
      }
    },
    {
      "cell_type": "code",
      "source": [
        "plt.imshow(test_data[1].reshape(28,28), cmap='gray')\n",
        "plt.show()\n",
        "pred = model.predict(test_data[1].reshape(1,784))\n",
        "print(pred.argmax())"
      ],
      "metadata": {
        "colab": {
          "base_uri": "https://localhost:8080/",
          "height": 300
        },
        "id": "iSxuX_Gl0002",
        "outputId": "3c85b2a4-eb67-4091-84b3-6ca58585afd5"
      },
      "execution_count": 6,
      "outputs": [
        {
          "output_type": "display_data",
          "data": {
            "text/plain": [
              "<Figure size 432x288 with 1 Axes>"
            ],
            "image/png": "[encoded data removed]"
          },
          "metadata": {
            "needs_background": "light"
          }
        },
        {
          "output_type": "stream",
          "name": "stdout",
          "text": [
            "1/1 [==============================] - 0s 19ms/step\n",
            "2\n"
          ]
        }
      ]
    },
    {
      "cell_type": "markdown",
      "source": [
        "The model predicted the number to be a 2 and it was correct as you can see on the above plot."
      ],
      "metadata": {
        "id": "vddqrA4w6RcY"
      }
    },
    {
      "cell_type": "markdown",
      "source": [
        "Adding hidden layers & changing activation function"
      ],
      "metadata": {
        "id": "4WytTaR56YNR"
      }
    },
    {
      "cell_type": "code",
      "source": [
        "model2 = Sequential()\n",
        "#Adding 3 hidden layers and changing from relu to tanh\n",
        "model2.add(Dense(512, activation='tanh', input_shape=(dimData,)))\n",
        "model2.add(Dense(512, activation='tanh'))\n",
        "model2.add(Dense(512, activation='tanh'))\n",
        "model2.add(Dense(512, activation='tanh'))\n",
        "model2.add(Dense(512, activation='tanh'))\n",
        "model2.add(Dense(10, activation='softmax'))\n",
        "\n",
        "model2.compile(optimizer='rmsprop', loss='categorical_crossentropy', metrics=['accuracy'])\n",
        "history = model2.fit(train_data, train_labels_one_hot, batch_size=256, epochs=10, verbose=1,\n",
        "                   validation_data=(test_data, test_labels_one_hot))"
      ],
      "metadata": {
        "colab": {
          "base_uri": "https://localhost:8080/"
        },
        "id": "4U7vLxvH6Q4O",
        "outputId": "e042d075-cae2-40bf-92e5-11002235289f"
      },
      "execution_count": 7,
      "outputs": [
        {
          "output_type": "stream",
          "name": "stdout",
          "text": [
            "Epoch 1/10\n",
            "235/235 [==============================] - 12s 50ms/step - loss: 0.5124 - accuracy: 0.8533 - val_loss: 0.2828 - val_accuracy: 0.9105\n",
            "Epoch 2/10\n",
            "235/235 [==============================] - 11s 47ms/step - loss: 0.1749 - accuracy: 0.9470 - val_loss: 0.1760 - val_accuracy: 0.9458\n",
            "Epoch 3/10\n",
            "235/235 [==============================] - 11s 45ms/step - loss: 0.1125 - accuracy: 0.9654 - val_loss: 0.2095 - val_accuracy: 0.9395\n",
            "Epoch 4/10\n",
            "235/235 [==============================] - 10s 44ms/step - loss: 0.0815 - accuracy: 0.9750 - val_loss: 0.1334 - val_accuracy: 0.9588\n",
            "Epoch 5/10\n",
            "235/235 [==============================] - 12s 49ms/step - loss: 0.0603 - accuracy: 0.9804 - val_loss: 0.1093 - val_accuracy: 0.9686\n",
            "Epoch 6/10\n",
            "235/235 [==============================] - 11s 48ms/step - loss: 0.0452 - accuracy: 0.9856 - val_loss: 0.1976 - val_accuracy: 0.9489\n",
            "Epoch 7/10\n",
            "235/235 [==============================] - 11s 48ms/step - loss: 0.0328 - accuracy: 0.9898 - val_loss: 0.0984 - val_accuracy: 0.9722\n",
            "Epoch 8/10\n",
            "235/235 [==============================] - 12s 50ms/step - loss: 0.0245 - accuracy: 0.9920 - val_loss: 0.0722 - val_accuracy: 0.9781\n",
            "Epoch 9/10\n",
            "235/235 [==============================] - 12s 49ms/step - loss: 0.0183 - accuracy: 0.9944 - val_loss: 0.1061 - val_accuracy: 0.9734\n",
            "Epoch 10/10\n",
            "235/235 [==============================] - 10s 43ms/step - loss: 0.0139 - accuracy: 0.9958 - val_loss: 0.0813 - val_accuracy: 0.9776\n"
          ]
        }
      ]
    },
    {
      "cell_type": "markdown",
      "source": [
        "I added 3 more hidden layers and changed all of the activation functions to tanh instead of ReLu, the validation loss and accuracy did not change much, but the model using less hidden layers and the ReLu activation function seemed to perform slightly better."
      ],
      "metadata": {
        "id": "-rOSpkzo66__"
      }
    },
    {
      "cell_type": "markdown",
      "source": [
        "Training without scaling the images on original model"
      ],
      "metadata": {
        "id": "DA8SBsbv6gZ_"
      }
    },
    {
      "cell_type": "code",
      "source": [
        "(train_images,train_labels),(test_images, test_labels) = mnist.load_data()\n",
        "#Using images that are not scaled with the original model\n",
        "\n",
        "#1. convert each image of shape 28*28 to 784 dimensional which will be fed to the network as a single feature\n",
        "dimData = np.prod(train_images.shape[1:])\n",
        "print(dimData)\n",
        "train_data = train_images.reshape(train_images.shape[0],dimData)\n",
        "test_data = test_images.reshape(test_images.shape[0],dimData)\n",
        "\n",
        "#convert data to float and scale values between 0 and 1\n",
        "train_data = train_data.astype('float')\n",
        "test_data = test_data.astype('float')\n",
        "\n",
        "#change the labels frominteger to one-hot encoding. to_categorical is doing the same thing as LabelEncoder()\n",
        "train_labels_one_hot = to_categorical(train_labels)\n",
        "test_labels_one_hot = to_categorical(test_labels)\n",
        "\n",
        "model3 = Sequential()\n",
        "model3.add(Dense(512, activation='relu', input_shape=(dimData,)))\n",
        "model3.add(Dense(512, activation='relu'))\n",
        "model3.add(Dense(10, activation='softmax'))\n",
        "\n",
        "model3.compile(optimizer='rmsprop', loss='categorical_crossentropy', metrics=['accuracy'])\n",
        "history = model3.fit(train_data, train_labels_one_hot, batch_size=256, epochs=10, verbose=1,\n",
        "                   validation_data=(test_data, test_labels_one_hot))"
      ],
      "metadata": {
        "colab": {
          "base_uri": "https://localhost:8080/"
        },
        "id": "45sNrj6P3f7i",
        "outputId": "513cf509-cf6d-42d7-cdc5-2406d5460e75"
      },
      "execution_count": 8,
      "outputs": [
        {
          "output_type": "stream",
          "name": "stdout",
          "text": [
            "784\n",
            "Epoch 1/10\n",
            "235/235 [==============================] - 7s 28ms/step - loss: 5.7078 - accuracy: 0.8764 - val_loss: 1.7800 - val_accuracy: 0.8496\n",
            "Epoch 2/10\n",
            "235/235 [==============================] - 5s 20ms/step - loss: 0.4069 - accuracy: 0.9467 - val_loss: 0.4734 - val_accuracy: 0.9343\n",
            "Epoch 3/10\n",
            "235/235 [==============================] - 5s 22ms/step - loss: 0.2462 - accuracy: 0.9589 - val_loss: 0.3291 - val_accuracy: 0.9458\n",
            "Epoch 4/10\n",
            "235/235 [==============================] - 5s 23ms/step - loss: 0.1937 - accuracy: 0.9668 - val_loss: 0.2498 - val_accuracy: 0.9590\n",
            "Epoch 5/10\n",
            "235/235 [==============================] - 5s 20ms/step - loss: 0.1611 - accuracy: 0.9715 - val_loss: 0.3093 - val_accuracy: 0.9590\n",
            "Epoch 6/10\n",
            "235/235 [==============================] - 6s 25ms/step - loss: 0.1520 - accuracy: 0.9758 - val_loss: 0.2876 - val_accuracy: 0.9636\n",
            "Epoch 7/10\n",
            "235/235 [==============================] - 5s 20ms/step - loss: 0.1335 - accuracy: 0.9789 - val_loss: 0.2770 - val_accuracy: 0.9690\n",
            "Epoch 8/10\n",
            "235/235 [==============================] - 5s 19ms/step - loss: 0.1214 - accuracy: 0.9812 - val_loss: 0.3039 - val_accuracy: 0.9668\n",
            "Epoch 9/10\n",
            "235/235 [==============================] - 6s 25ms/step - loss: 0.1203 - accuracy: 0.9829 - val_loss: 0.3258 - val_accuracy: 0.9698\n",
            "Epoch 10/10\n",
            "235/235 [==============================] - 5s 20ms/step - loss: 0.1140 - accuracy: 0.9843 - val_loss: 0.5022 - val_accuracy: 0.9565\n"
          ]
        }
      ]
    },
    {
      "cell_type": "markdown",
      "source": [
        "Training without scaling the images on model from part 3"
      ],
      "metadata": {
        "id": "73CXW_gs8Zb3"
      }
    },
    {
      "cell_type": "code",
      "source": [
        "model4 = Sequential()\n",
        "#Using images that are not scaled\n",
        "#Added 3 more hidden layers and changed activation function to tanh\n",
        "model4.add(Dense(512, activation='tanh', input_shape=(dimData,)))\n",
        "model4.add(Dense(512, activation='tanh'))\n",
        "model4.add(Dense(512, activation='tanh'))\n",
        "model4.add(Dense(512, activation='tanh'))\n",
        "model4.add(Dense(512, activation='tanh'))\n",
        "model4.add(Dense(10, activation='softmax'))\n",
        "\n",
        "model4.compile(optimizer='rmsprop', loss='categorical_crossentropy', metrics=['accuracy'])\n",
        "history = model4.fit(train_data, train_labels_one_hot, batch_size=256, epochs=10, verbose=1,\n",
        "                   validation_data=(test_data, test_labels_one_hot))"
      ],
      "metadata": {
        "colab": {
          "base_uri": "https://localhost:8080/"
        },
        "id": "lwwr_NLh8tgl",
        "outputId": "da93264c-a820-472f-92f7-0cf697a1353c"
      },
      "execution_count": 9,
      "outputs": [
        {
          "output_type": "stream",
          "name": "stdout",
          "text": [
            "Epoch 1/10\n",
            "235/235 [==============================] - 12s 49ms/step - loss: 0.5697 - accuracy: 0.8357 - val_loss: 0.2863 - val_accuracy: 0.9158\n",
            "Epoch 2/10\n",
            "235/235 [==============================] - 13s 53ms/step - loss: 0.2215 - accuracy: 0.9313 - val_loss: 0.2400 - val_accuracy: 0.9287\n",
            "Epoch 3/10\n",
            "235/235 [==============================] - 11s 48ms/step - loss: 0.1717 - accuracy: 0.9470 - val_loss: 0.1940 - val_accuracy: 0.9426\n",
            "Epoch 4/10\n",
            "235/235 [==============================] - 11s 47ms/step - loss: 0.1476 - accuracy: 0.9536 - val_loss: 0.1842 - val_accuracy: 0.9413\n",
            "Epoch 5/10\n",
            "235/235 [==============================] - 10s 42ms/step - loss: 0.1280 - accuracy: 0.9593 - val_loss: 0.1793 - val_accuracy: 0.9456\n",
            "Epoch 6/10\n",
            "235/235 [==============================] - 11s 48ms/step - loss: 0.1118 - accuracy: 0.9646 - val_loss: 0.1358 - val_accuracy: 0.9581\n",
            "Epoch 7/10\n",
            "235/235 [==============================] - 12s 52ms/step - loss: 0.1028 - accuracy: 0.9676 - val_loss: 0.1408 - val_accuracy: 0.9553\n",
            "Epoch 8/10\n",
            "235/235 [==============================] - 11s 47ms/step - loss: 0.0884 - accuracy: 0.9714 - val_loss: 0.1530 - val_accuracy: 0.9552\n",
            "Epoch 9/10\n",
            "235/235 [==============================] - 12s 53ms/step - loss: 0.0855 - accuracy: 0.9721 - val_loss: 0.1147 - val_accuracy: 0.9655\n",
            "Epoch 10/10\n",
            "235/235 [==============================] - 15s 64ms/step - loss: 0.0835 - accuracy: 0.9735 - val_loss: 0.1953 - val_accuracy: 0.9462\n"
          ]
        }
      ]
    },
    {
      "cell_type": "markdown",
      "source": [
        "The validation loss when training with only 2 hidden layers and not scaling the images seemed consistently stay much higher than on the models where the images were scaled. The validation loss on the model with 5 hidden layers was slightly better than the other model but still significantly worse than the models that had scaled images fed into them. \n",
        "\n",
        "The validation accuracy did not drop significantly for either model that did not scale the images, but it was worse so it is clear that it is beneficial to scale images that input into neural networks."
      ],
      "metadata": {
        "id": "_jr99x2J85h7"
      }
    }
  ]
}

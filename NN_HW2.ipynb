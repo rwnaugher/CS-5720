{
 "cells": [
  {
   "cell_type": "code",
   "execution_count": 151,
   "id": "b5334704",
   "metadata": {},
   "outputs": [],
   "source": [
    "import sys #Importing sys to be used later on\n",
    "#Taking a first and last name as input then combining the two using the join function and putting them into a list together\n",
    "#Making sure to use return instead of print because the output will be used within the string_alternative function later on\n",
    "def fullname(first,last):\n",
    "    return (\" \".join([first,last]))\n",
    "#Taking a string as input then using list/string comprehension in order to output only every other letter in the string\n",
    "def string_alternative(s):\n",
    "    print(s[::2])\n",
    "\n",
    "#Loading input.txt file from my desktop, then reading line by line into a list also stripping the new line character using strip\n",
    "with open('C:/Users/rwnau/Desktop/input.txt') as txt:\n",
    "    lines = [(line.strip()) for line in txt.readlines()]\n",
    "#Converting the list into a string for formatting then splitting the string into each individual word so I can iterate through\n",
    "#them as needed. Creating a unique list of words to base our word count on and then using a for loop to iterate through the\n",
    "#list of words from the input.txt file\n",
    "def wordcount(lines):\n",
    "    txt = \" \".join(lines)\n",
    "    txt = txt.split()\n",
    "    words = set(txt) \n",
    "    #Saving the standard output for printing\n",
    "    orig = sys.stdout\n",
    "    #Opening the output file where we want the word counts to go then iterating through counting process and setting the\n",
    "    #standard output for printing to the output.txt file then after we are done reverting it back to the original setting\n",
    "    with open('output.txt','w') as out:\n",
    "        for i in words:\n",
    "            sys.stdout = out\n",
    "            print(i+\":\",txt.count(i))\n",
    "            sys.stdout = orig\n",
    "#Taking an input list of integers, creating a new centimeters list, The first method is using a nested for loop to iterate through\n",
    "#The inches list(first to get the indexing for the new list) and then iterate through again to convert to centimeters and add the result to the cm list. \n",
    "#The second method is using list comprehension and the append function and iterating through the inches list and multiplying\n",
    "#by 2.54 which is the conversion of inches to centimeters and then printing the centimeters list\n",
    "def convert(inches):\n",
    "    cm2 = []\n",
    "    for i in inches:\n",
    "        cm1 = [i*2.54 for i in inches]\n",
    "    for i in inches:\n",
    "        cm2.append(i*2.54)\n",
    "    print(cm1,cm2)"
   ]
  },
  {
   "cell_type": "code",
   "execution_count": 153,
   "id": "34ec8c88",
   "metadata": {},
   "outputs": [
    {
     "name": "stdout",
     "output_type": "stream",
     "text": [
      "Ryan\n",
      "Naugher\n"
     ]
    },
    {
     "data": {
      "text/plain": [
       "'Ryan Naugher'"
      ]
     },
     "execution_count": 153,
     "metadata": {},
     "output_type": "execute_result"
    }
   ],
   "source": [
    "fullname(input(),input())#full name function takes 2 user inputs, first and last name"
   ]
  },
  {
   "cell_type": "code",
   "execution_count": 154,
   "id": "6d0b623f",
   "metadata": {},
   "outputs": [
    {
     "name": "stdout",
     "output_type": "stream",
     "text": [
      "Ryan\n",
      "Naugher\n",
      "Ra age\n"
     ]
    }
   ],
   "source": [
    "string_alternative(fullname(input(),input())) #string alternative function takes the output of the fullname function as a parameter"
   ]
  },
  {
   "cell_type": "code",
   "execution_count": 155,
   "id": "b3cb3c43",
   "metadata": {},
   "outputs": [],
   "source": [
    "wordcount(lines) #wordcount function takes the textfile that has been read in as a parameter"
   ]
  },
  {
   "cell_type": "code",
   "execution_count": 156,
   "id": "2fafd4d4",
   "metadata": {},
   "outputs": [
    {
     "name": "stdout",
     "output_type": "stream",
     "text": [
      "150\n",
      "155\n",
      "145\n",
      "148\n",
      "[381.0, 393.7, 368.3, 375.92] [381.0, 393.7, 368.3, 375.92]\n"
     ]
    }
   ],
   "source": [
    "convert([int(input()),int(input()),int(input()),int(input())]) #convert function takes integer inputs as parameters"
   ]
  },
  {
   "cell_type": "code",
   "execution_count": null,
   "id": "89ba1003",
   "metadata": {},
   "outputs": [],
   "source": []
  }
 ],
 "metadata": {
  "kernelspec": {
   "display_name": "Python 3 (ipykernel)",
   "language": "python",
   "name": "python3"
  },
  "language_info": {
   "codemirror_mode": {
    "name": "ipython",
    "version": 3
   },
   "file_extension": ".py",
   "mimetype": "text/x-python",
   "name": "python",
   "nbconvert_exporter": "python",
   "pygments_lexer": "ipython3",
   "version": "3.9.10"
  }
 },
 "nbformat": 4,
 "nbformat_minor": 5
}

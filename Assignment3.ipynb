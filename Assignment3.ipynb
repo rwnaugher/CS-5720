{
 "cells": [
  {
   "cell_type": "code",
   "execution_count": null,
   "id": "878a15fb",
   "metadata": {},
   "outputs": [],
   "source": [
    "#ICP 3 - Ryan Naugher"
   ]
  },
  {
   "cell_type": "code",
   "execution_count": 9,
   "id": "5b2e3637",
   "metadata": {},
   "outputs": [],
   "source": [
    "#Importing the numpy package for use in np.mean, np.array, np.arange, and np.reshape\n",
    "import numpy as np"
   ]
  },
  {
   "cell_type": "code",
   "execution_count": 19,
   "id": "3220a0bb",
   "metadata": {},
   "outputs": [],
   "source": [
    "#Part 1\n",
    "#Creating the Employee class\n",
    "class Employee:\n",
    "    numEmp = 0\n",
    "    #Resetting the number of employees to zero\n",
    "    salaries = []\n",
    "    #Resetting/Creating list of employee salaries\n",
    "    #Creating a constructor that includes name, family, salary, and department\n",
    "    def __init__(self, name, family, salary, department):\n",
    "        #Setting each of the constructors values equal to the user inputted values\n",
    "        self.name = name\n",
    "        self.family = family\n",
    "        self.salary = salary\n",
    "        self.department = department\n",
    "        #Adding 1 to the numEmp variable to keep track of the number of employees each time the constructor is called\n",
    "        Employee.numEmp += 1\n",
    "        #Appending the employees' salary to the salaries list to have salaries stored in one spot\n",
    "        Employee.salaries.append(salary)\n",
    "        #Function to find the average salary of all employees, the function takes self as a parameter which allows us to \n",
    "        #use anything within the Employee class\n",
    "    def avg_salary(self):\n",
    "        #Using numpy mean function to compute the average salary using the salaries list created earlier\n",
    "        #return np.mean(self.salaries)\n",
    "        #Using the summation of the salaries in the list divided by the total number of employees to get the average\n",
    "        return sum(self.salaries)/self.numEmp\n",
    "    #Creating a new class that inherits everything from the Employee class\n",
    "class Fulltime_Employee(Employee):\n",
    "    #Passes everything from Employee to Fulltime_Employee\n",
    "    pass"
   ]
  },
  {
   "cell_type": "code",
   "execution_count": 20,
   "id": "1b87edc1",
   "metadata": {},
   "outputs": [
    {
     "name": "stdout",
     "output_type": "stream",
     "text": [
      "33333.333333333336\n",
      "3\n",
      "33333.333333333336\n",
      "3\n"
     ]
    }
   ],
   "source": [
    "#Adding employees using the constructor and entering all parameters\n",
    "emp1 = Employee(\"Ryan\", \"Naugher\", 50000, \"CS\")\n",
    "emp2 = Employee(\"Test\", \"Name\", 10000, \"English\")\n",
    "emp3 = Employee(\"Name\", \"Test\", 40000, \"Math\")\n",
    "#Average Salary output\n",
    "print(Employee.avg_salary(Employee))\n",
    "#Number of employees output\n",
    "print(Employee.numEmp)\n",
    "#Repeated using Fulltime_Employee class\n",
    "print(Fulltime_Employee.avg_salary(Fulltime_Employee))\n",
    "print(Fulltime_Employee.numEmp)"
   ]
  },
  {
   "cell_type": "code",
   "execution_count": 21,
   "id": "3d4b474d",
   "metadata": {},
   "outputs": [
    {
     "name": "stdout",
     "output_type": "stream",
     "text": [
      "[ 1.  2.  3.  4.  5.  6.  7.  8.  9. 10. 11. 12. 13. 14. 15. 16. 17. 18.\n",
      " 19. 20.]\n",
      "\n",
      "[[ 1.  2.  3.  4.  5.]\n",
      " [ 6.  7.  8.  9. 10.]\n",
      " [11. 12. 13. 14. 15.]\n",
      " [16. 17. 18. 19. 20.]]\n",
      "\n",
      "[[ 1.  2.  3.  4.  0.]\n",
      " [ 6.  7.  8.  9.  0.]\n",
      " [11. 12. 13. 14.  0.]\n",
      " [16. 17. 18. 19.  0.]]\n"
     ]
    }
   ],
   "source": [
    "#Part 2\n",
    "#Creating an array of numbers 1-20 float values using the array and arange function and setting dtype to float\n",
    "x = np.array(np.arange(1,21,dtype=float))\n",
    "print(x)\n",
    "print()\n",
    "#Reshaping the created array to a 4x5 matrix using the reshape function\n",
    "x = x.reshape(4,5)\n",
    "print(x)\n",
    "print()\n",
    "#Using list comprehension to access the last entry of each row and setting them all to zero\n",
    "x[:,[4]] = 0\n",
    "print(x)"
   ]
  },
  {
   "cell_type": "code",
   "execution_count": null,
   "id": "acff2bf9",
   "metadata": {},
   "outputs": [],
   "source": []
  }
 ],
 "metadata": {
  "kernelspec": {
   "display_name": "Python 3 (ipykernel)",
   "language": "python",
   "name": "python3"
  },
  "language_info": {
   "codemirror_mode": {
    "name": "ipython",
    "version": 3
   },
   "file_extension": ".py",
   "mimetype": "text/x-python",
   "name": "python",
   "nbconvert_exporter": "python",
   "pygments_lexer": "ipython3",
   "version": "3.9.10"
  }
 },
 "nbformat": 4,
 "nbformat_minor": 5
}
